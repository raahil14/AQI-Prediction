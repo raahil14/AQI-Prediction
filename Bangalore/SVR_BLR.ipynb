{
 "cells": [
  {
   "cell_type": "code",
   "execution_count": 1,
   "metadata": {
    "id": "GVxLhmhEuDGO"
   },
   "outputs": [],
   "source": [
    "import pandas as pd #for data analysis and machine learning task\n",
    "import numpy as np #for mathematical operations\n",
    "import matplotlib.pyplot as plt\n",
    "import seaborn as sns  #for interactive graphs\n",
    "import matplotlib.pyplot as plt\n",
    "from sklearn.model_selection import train_test_split   #for splitting data into train and test\n",
    "import warnings\n",
    "\n",
    "warnings.filterwarnings(\"ignore\")\n",
    "warnings.simplefilter(action='ignore', category=FutureWarning)"
   ]
  },
  {
   "cell_type": "code",
   "execution_count": 2,
   "metadata": {
    "colab": {
     "base_uri": "https://localhost:8080/",
     "height": 423
    },
    "id": "go2OFqRp2oL1",
    "outputId": "5bb40b6e-26aa-4a1a-cc16-56b639df1953"
   },
   "outputs": [
    {
     "data": {
      "text/html": [
       "<div>\n",
       "<style scoped>\n",
       "    .dataframe tbody tr th:only-of-type {\n",
       "        vertical-align: middle;\n",
       "    }\n",
       "\n",
       "    .dataframe tbody tr th {\n",
       "        vertical-align: top;\n",
       "    }\n",
       "\n",
       "    .dataframe thead th {\n",
       "        text-align: right;\n",
       "    }\n",
       "</style>\n",
       "<table border=\"1\" class=\"dataframe\">\n",
       "  <thead>\n",
       "    <tr style=\"text-align: right;\">\n",
       "      <th></th>\n",
       "      <th>AQI</th>\n",
       "    </tr>\n",
       "  </thead>\n",
       "  <tbody>\n",
       "    <tr>\n",
       "      <th>0</th>\n",
       "      <td>130.000000</td>\n",
       "    </tr>\n",
       "    <tr>\n",
       "      <th>1</th>\n",
       "      <td>103.000000</td>\n",
       "    </tr>\n",
       "    <tr>\n",
       "      <th>2</th>\n",
       "      <td>74.000000</td>\n",
       "    </tr>\n",
       "    <tr>\n",
       "      <th>3</th>\n",
       "      <td>75.000000</td>\n",
       "    </tr>\n",
       "    <tr>\n",
       "      <th>4</th>\n",
       "      <td>85.000000</td>\n",
       "    </tr>\n",
       "    <tr>\n",
       "      <th>...</th>\n",
       "      <td>...</td>\n",
       "    </tr>\n",
       "    <tr>\n",
       "      <th>3476</th>\n",
       "      <td>140.834015</td>\n",
       "    </tr>\n",
       "    <tr>\n",
       "      <th>3477</th>\n",
       "      <td>128.161272</td>\n",
       "    </tr>\n",
       "    <tr>\n",
       "      <th>3478</th>\n",
       "      <td>118.481144</td>\n",
       "    </tr>\n",
       "    <tr>\n",
       "      <th>3479</th>\n",
       "      <td>103.679947</td>\n",
       "    </tr>\n",
       "    <tr>\n",
       "      <th>3480</th>\n",
       "      <td>105.138681</td>\n",
       "    </tr>\n",
       "  </tbody>\n",
       "</table>\n",
       "<p>3481 rows × 1 columns</p>\n",
       "</div>"
      ],
      "text/plain": [
       "             AQI\n",
       "0     130.000000\n",
       "1     103.000000\n",
       "2      74.000000\n",
       "3      75.000000\n",
       "4      85.000000\n",
       "...          ...\n",
       "3476  140.834015\n",
       "3477  128.161272\n",
       "3478  118.481144\n",
       "3479  103.679947\n",
       "3480  105.138681\n",
       "\n",
       "[3481 rows x 1 columns]"
      ]
     },
     "execution_count": 2,
     "metadata": {},
     "output_type": "execute_result"
    }
   ],
   "source": [
    "path = \"blrdataset_smoted.csv\"\n",
    "dataset = pd.read_csv(path)\n",
    "x = dataset.iloc[:, 1:-2]  #enables us to select a particular cell of the dataset->leaving last 2\n",
    "y = dataset.iloc[:, 13:14] #only the 13th col\n",
    "y"
   ]
  },
  {
   "cell_type": "markdown",
   "metadata": {
    "id": "OVNz827nT1rV"
   },
   "source": [
    "splitting of dataset\n"
   ]
  },
  {
   "cell_type": "code",
   "execution_count": null,
   "metadata": {},
   "outputs": [],
   "source": []
  },
  {
   "cell_type": "code",
   "execution_count": 3,
   "metadata": {
    "id": "LAedBm2KXgiG"
   },
   "outputs": [],
   "source": [
    "df_x, df_x1, df_y, df_y1 = train_test_split(x, y, test_size=0.3, random_state=42) #setting random_state to an integer so that same results come each time"
   ]
  },
  {
   "cell_type": "code",
   "execution_count": 4,
   "metadata": {
    "colab": {
     "base_uri": "https://localhost:8080/",
     "height": 206
    },
    "id": "8otc7udZXiC6",
    "outputId": "35eb666a-cc7f-4540-a214-68bd264b95e5"
   },
   "outputs": [
    {
     "data": {
      "text/html": [
       "<div>\n",
       "<style scoped>\n",
       "    .dataframe tbody tr th:only-of-type {\n",
       "        vertical-align: middle;\n",
       "    }\n",
       "\n",
       "    .dataframe tbody tr th {\n",
       "        vertical-align: top;\n",
       "    }\n",
       "\n",
       "    .dataframe thead th {\n",
       "        text-align: right;\n",
       "    }\n",
       "</style>\n",
       "<table border=\"1\" class=\"dataframe\">\n",
       "  <thead>\n",
       "    <tr style=\"text-align: right;\">\n",
       "      <th></th>\n",
       "      <th>Date</th>\n",
       "      <th>PM2.5</th>\n",
       "      <th>PM10</th>\n",
       "      <th>NO</th>\n",
       "      <th>NO2</th>\n",
       "      <th>NOx</th>\n",
       "      <th>NH3</th>\n",
       "      <th>CO</th>\n",
       "      <th>SO2</th>\n",
       "      <th>O3</th>\n",
       "      <th>Benzene</th>\n",
       "      <th>Toluene</th>\n",
       "    </tr>\n",
       "  </thead>\n",
       "  <tbody>\n",
       "    <tr>\n",
       "      <th>3340</th>\n",
       "      <td>21/01/2019</td>\n",
       "      <td>47.966730</td>\n",
       "      <td>98.603066</td>\n",
       "      <td>6.301730</td>\n",
       "      <td>36.568209</td>\n",
       "      <td>31.648525</td>\n",
       "      <td>15.205400</td>\n",
       "      <td>0.896370</td>\n",
       "      <td>5.140499</td>\n",
       "      <td>61.861208</td>\n",
       "      <td>0.355730</td>\n",
       "      <td>1.431781</td>\n",
       "    </tr>\n",
       "    <tr>\n",
       "      <th>1891</th>\n",
       "      <td>11/02/2016</td>\n",
       "      <td>80.565142</td>\n",
       "      <td>178.794134</td>\n",
       "      <td>8.108524</td>\n",
       "      <td>58.826191</td>\n",
       "      <td>24.033996</td>\n",
       "      <td>18.934965</td>\n",
       "      <td>1.898006</td>\n",
       "      <td>13.717837</td>\n",
       "      <td>59.229800</td>\n",
       "      <td>3.225720</td>\n",
       "      <td>0.986501</td>\n",
       "    </tr>\n",
       "    <tr>\n",
       "      <th>3084</th>\n",
       "      <td>13/03/2016</td>\n",
       "      <td>75.949073</td>\n",
       "      <td>141.850109</td>\n",
       "      <td>10.035322</td>\n",
       "      <td>35.606861</td>\n",
       "      <td>28.138611</td>\n",
       "      <td>32.499321</td>\n",
       "      <td>1.109597</td>\n",
       "      <td>5.567862</td>\n",
       "      <td>77.580613</td>\n",
       "      <td>2.445136</td>\n",
       "      <td>2.296515</td>\n",
       "    </tr>\n",
       "    <tr>\n",
       "      <th>2246</th>\n",
       "      <td>16/05/2016</td>\n",
       "      <td>28.873438</td>\n",
       "      <td>41.534324</td>\n",
       "      <td>9.620867</td>\n",
       "      <td>23.603695</td>\n",
       "      <td>20.180453</td>\n",
       "      <td>34.539938</td>\n",
       "      <td>0.276409</td>\n",
       "      <td>4.987171</td>\n",
       "      <td>18.085293</td>\n",
       "      <td>2.402373</td>\n",
       "      <td>5.347146</td>\n",
       "    </tr>\n",
       "    <tr>\n",
       "      <th>3321</th>\n",
       "      <td>19/12/2018</td>\n",
       "      <td>64.385214</td>\n",
       "      <td>114.663476</td>\n",
       "      <td>15.569108</td>\n",
       "      <td>52.189393</td>\n",
       "      <td>55.326376</td>\n",
       "      <td>28.516491</td>\n",
       "      <td>1.047039</td>\n",
       "      <td>6.915086</td>\n",
       "      <td>58.973281</td>\n",
       "      <td>0.375800</td>\n",
       "      <td>1.409053</td>\n",
       "    </tr>\n",
       "  </tbody>\n",
       "</table>\n",
       "</div>"
      ],
      "text/plain": [
       "            Date      PM2.5        PM10         NO        NO2        NOx  \\\n",
       "3340  21/01/2019  47.966730   98.603066   6.301730  36.568209  31.648525   \n",
       "1891  11/02/2016  80.565142  178.794134   8.108524  58.826191  24.033996   \n",
       "3084  13/03/2016  75.949073  141.850109  10.035322  35.606861  28.138611   \n",
       "2246  16/05/2016  28.873438   41.534324   9.620867  23.603695  20.180453   \n",
       "3321  19/12/2018  64.385214  114.663476  15.569108  52.189393  55.326376   \n",
       "\n",
       "            NH3        CO        SO2         O3   Benzene   Toluene  \n",
       "3340  15.205400  0.896370   5.140499  61.861208  0.355730  1.431781  \n",
       "1891  18.934965  1.898006  13.717837  59.229800  3.225720  0.986501  \n",
       "3084  32.499321  1.109597   5.567862  77.580613  2.445136  2.296515  \n",
       "2246  34.539938  0.276409   4.987171  18.085293  2.402373  5.347146  \n",
       "3321  28.516491  1.047039   6.915086  58.973281  0.375800  1.409053  "
      ]
     },
     "execution_count": 4,
     "metadata": {},
     "output_type": "execute_result"
    }
   ],
   "source": [
    "df_x.head(5)  #method is used to return top n (5 by default) rows of a data frame or series.\n"
   ]
  },
  {
   "cell_type": "code",
   "execution_count": 5,
   "metadata": {
    "colab": {
     "base_uri": "https://localhost:8080/",
     "height": 206
    },
    "id": "W0XA6eoxXjYp",
    "outputId": "5d20dd44-3bc3-43e8-edf6-a6c4f8162981"
   },
   "outputs": [
    {
     "data": {
      "text/html": [
       "<div>\n",
       "<style scoped>\n",
       "    .dataframe tbody tr th:only-of-type {\n",
       "        vertical-align: middle;\n",
       "    }\n",
       "\n",
       "    .dataframe tbody tr th {\n",
       "        vertical-align: top;\n",
       "    }\n",
       "\n",
       "    .dataframe thead th {\n",
       "        text-align: right;\n",
       "    }\n",
       "</style>\n",
       "<table border=\"1\" class=\"dataframe\">\n",
       "  <thead>\n",
       "    <tr style=\"text-align: right;\">\n",
       "      <th></th>\n",
       "      <th>Date</th>\n",
       "      <th>PM2.5</th>\n",
       "      <th>PM10</th>\n",
       "      <th>NO</th>\n",
       "      <th>NO2</th>\n",
       "      <th>NOx</th>\n",
       "      <th>NH3</th>\n",
       "      <th>CO</th>\n",
       "      <th>SO2</th>\n",
       "      <th>O3</th>\n",
       "      <th>Benzene</th>\n",
       "      <th>Toluene</th>\n",
       "    </tr>\n",
       "  </thead>\n",
       "  <tbody>\n",
       "    <tr>\n",
       "      <th>2457</th>\n",
       "      <td>13/06/2019</td>\n",
       "      <td>13.629210</td>\n",
       "      <td>38.479891</td>\n",
       "      <td>8.582396</td>\n",
       "      <td>21.864387</td>\n",
       "      <td>24.977347</td>\n",
       "      <td>12.307485</td>\n",
       "      <td>0.713785</td>\n",
       "      <td>3.539877</td>\n",
       "      <td>18.469950</td>\n",
       "      <td>0.337411</td>\n",
       "      <td>1.210040</td>\n",
       "    </tr>\n",
       "    <tr>\n",
       "      <th>1114</th>\n",
       "      <td>29/10/2019</td>\n",
       "      <td>34.240000</td>\n",
       "      <td>78.000000</td>\n",
       "      <td>11.340000</td>\n",
       "      <td>22.990000</td>\n",
       "      <td>27.530000</td>\n",
       "      <td>16.130000</td>\n",
       "      <td>0.970000</td>\n",
       "      <td>6.610000</td>\n",
       "      <td>20.890000</td>\n",
       "      <td>0.670000</td>\n",
       "      <td>2.320000</td>\n",
       "    </tr>\n",
       "    <tr>\n",
       "      <th>1298</th>\n",
       "      <td>30/04/2020</td>\n",
       "      <td>20.300000</td>\n",
       "      <td>54.560000</td>\n",
       "      <td>4.210000</td>\n",
       "      <td>15.270000</td>\n",
       "      <td>17.170000</td>\n",
       "      <td>8.070000</td>\n",
       "      <td>0.750000</td>\n",
       "      <td>5.450000</td>\n",
       "      <td>32.260000</td>\n",
       "      <td>0.360000</td>\n",
       "      <td>1.360000</td>\n",
       "    </tr>\n",
       "    <tr>\n",
       "      <th>1442</th>\n",
       "      <td>03/07/2016</td>\n",
       "      <td>25.423570</td>\n",
       "      <td>96.847312</td>\n",
       "      <td>9.666550</td>\n",
       "      <td>40.279245</td>\n",
       "      <td>0.275769</td>\n",
       "      <td>27.443613</td>\n",
       "      <td>7.296114</td>\n",
       "      <td>2.520185</td>\n",
       "      <td>12.258222</td>\n",
       "      <td>1.953182</td>\n",
       "      <td>2.395256</td>\n",
       "    </tr>\n",
       "    <tr>\n",
       "      <th>1665</th>\n",
       "      <td>01/07/2016</td>\n",
       "      <td>27.472827</td>\n",
       "      <td>83.997641</td>\n",
       "      <td>6.881063</td>\n",
       "      <td>20.687176</td>\n",
       "      <td>14.355665</td>\n",
       "      <td>31.802182</td>\n",
       "      <td>5.646142</td>\n",
       "      <td>2.436341</td>\n",
       "      <td>38.767221</td>\n",
       "      <td>0.987250</td>\n",
       "      <td>2.196206</td>\n",
       "    </tr>\n",
       "  </tbody>\n",
       "</table>\n",
       "</div>"
      ],
      "text/plain": [
       "            Date      PM2.5       PM10         NO        NO2        NOx  \\\n",
       "2457  13/06/2019  13.629210  38.479891   8.582396  21.864387  24.977347   \n",
       "1114  29/10/2019  34.240000  78.000000  11.340000  22.990000  27.530000   \n",
       "1298  30/04/2020  20.300000  54.560000   4.210000  15.270000  17.170000   \n",
       "1442  03/07/2016  25.423570  96.847312   9.666550  40.279245   0.275769   \n",
       "1665  01/07/2016  27.472827  83.997641   6.881063  20.687176  14.355665   \n",
       "\n",
       "            NH3        CO       SO2         O3   Benzene   Toluene  \n",
       "2457  12.307485  0.713785  3.539877  18.469950  0.337411  1.210040  \n",
       "1114  16.130000  0.970000  6.610000  20.890000  0.670000  2.320000  \n",
       "1298   8.070000  0.750000  5.450000  32.260000  0.360000  1.360000  \n",
       "1442  27.443613  7.296114  2.520185  12.258222  1.953182  2.395256  \n",
       "1665  31.802182  5.646142  2.436341  38.767221  0.987250  2.196206  "
      ]
     },
     "execution_count": 5,
     "metadata": {},
     "output_type": "execute_result"
    }
   ],
   "source": [
    "df_x1.head(5)\n"
   ]
  },
  {
   "cell_type": "code",
   "execution_count": 6,
   "metadata": {
    "colab": {
     "base_uri": "https://localhost:8080/",
     "height": 206
    },
    "id": "4k8DXPVkXkoT",
    "outputId": "246c36a2-f3a6-4112-9083-1dc5505e026e"
   },
   "outputs": [
    {
     "data": {
      "text/html": [
       "<div>\n",
       "<style scoped>\n",
       "    .dataframe tbody tr th:only-of-type {\n",
       "        vertical-align: middle;\n",
       "    }\n",
       "\n",
       "    .dataframe tbody tr th {\n",
       "        vertical-align: top;\n",
       "    }\n",
       "\n",
       "    .dataframe thead th {\n",
       "        text-align: right;\n",
       "    }\n",
       "</style>\n",
       "<table border=\"1\" class=\"dataframe\">\n",
       "  <thead>\n",
       "    <tr style=\"text-align: right;\">\n",
       "      <th></th>\n",
       "      <th>AQI</th>\n",
       "    </tr>\n",
       "  </thead>\n",
       "  <tbody>\n",
       "    <tr>\n",
       "      <th>3340</th>\n",
       "      <td>102.166782</td>\n",
       "    </tr>\n",
       "    <tr>\n",
       "      <th>1891</th>\n",
       "      <td>209.525386</td>\n",
       "    </tr>\n",
       "    <tr>\n",
       "      <th>3084</th>\n",
       "      <td>154.162083</td>\n",
       "    </tr>\n",
       "    <tr>\n",
       "      <th>2246</th>\n",
       "      <td>47.000000</td>\n",
       "    </tr>\n",
       "    <tr>\n",
       "      <th>3321</th>\n",
       "      <td>124.516687</td>\n",
       "    </tr>\n",
       "  </tbody>\n",
       "</table>\n",
       "</div>"
      ],
      "text/plain": [
       "             AQI\n",
       "3340  102.166782\n",
       "1891  209.525386\n",
       "3084  154.162083\n",
       "2246   47.000000\n",
       "3321  124.516687"
      ]
     },
     "execution_count": 6,
     "metadata": {},
     "output_type": "execute_result"
    }
   ],
   "source": [
    "df_y.head(5)\n"
   ]
  },
  {
   "cell_type": "code",
   "execution_count": 7,
   "metadata": {
    "colab": {
     "base_uri": "https://localhost:8080/",
     "height": 206
    },
    "id": "NB4X_1OyXmGv",
    "outputId": "c25fd421-35d8-443f-f6d0-6ffce566d305"
   },
   "outputs": [
    {
     "data": {
      "text/html": [
       "<div>\n",
       "<style scoped>\n",
       "    .dataframe tbody tr th:only-of-type {\n",
       "        vertical-align: middle;\n",
       "    }\n",
       "\n",
       "    .dataframe tbody tr th {\n",
       "        vertical-align: top;\n",
       "    }\n",
       "\n",
       "    .dataframe thead th {\n",
       "        text-align: right;\n",
       "    }\n",
       "</style>\n",
       "<table border=\"1\" class=\"dataframe\">\n",
       "  <thead>\n",
       "    <tr style=\"text-align: right;\">\n",
       "      <th></th>\n",
       "      <th>AQI</th>\n",
       "    </tr>\n",
       "  </thead>\n",
       "  <tbody>\n",
       "    <tr>\n",
       "      <th>2457</th>\n",
       "      <td>49.018314</td>\n",
       "    </tr>\n",
       "    <tr>\n",
       "      <th>1114</th>\n",
       "      <td>80.000000</td>\n",
       "    </tr>\n",
       "    <tr>\n",
       "      <th>1298</th>\n",
       "      <td>61.000000</td>\n",
       "    </tr>\n",
       "    <tr>\n",
       "      <th>1442</th>\n",
       "      <td>231.042311</td>\n",
       "    </tr>\n",
       "    <tr>\n",
       "      <th>1665</th>\n",
       "      <td>220.207174</td>\n",
       "    </tr>\n",
       "  </tbody>\n",
       "</table>\n",
       "</div>"
      ],
      "text/plain": [
       "             AQI\n",
       "2457   49.018314\n",
       "1114   80.000000\n",
       "1298   61.000000\n",
       "1442  231.042311\n",
       "1665  220.207174"
      ]
     },
     "execution_count": 7,
     "metadata": {},
     "output_type": "execute_result"
    }
   ],
   "source": [
    "df_y1.head(5)\n"
   ]
  },
  {
   "cell_type": "code",
   "execution_count": 8,
   "metadata": {
    "colab": {
     "base_uri": "https://localhost:8080/"
    },
    "id": "LFB0dUY-XnTV",
    "outputId": "5d173bad-e10c-4b53-bf4d-f5d4c3538cac"
   },
   "outputs": [
    {
     "name": "stdout",
     "output_type": "stream",
     "text": [
      "<class 'pandas.core.frame.DataFrame'>\n",
      "Int64Index: 2436 entries, 3340 to 3174\n",
      "Data columns (total 12 columns):\n",
      " #   Column   Non-Null Count  Dtype  \n",
      "---  ------   --------------  -----  \n",
      " 0   Date     2436 non-null   object \n",
      " 1   PM2.5    2436 non-null   float64\n",
      " 2   PM10     2436 non-null   float64\n",
      " 3   NO       2436 non-null   float64\n",
      " 4   NO2      2436 non-null   float64\n",
      " 5   NOx      2436 non-null   float64\n",
      " 6   NH3      2436 non-null   float64\n",
      " 7   CO       2436 non-null   float64\n",
      " 8   SO2      2436 non-null   float64\n",
      " 9   O3       2436 non-null   float64\n",
      " 10  Benzene  2436 non-null   float64\n",
      " 11  Toluene  2436 non-null   float64\n",
      "dtypes: float64(11), object(1)\n",
      "memory usage: 247.4+ KB\n"
     ]
    }
   ],
   "source": [
    "df_x.info()\n"
   ]
  },
  {
   "cell_type": "code",
   "execution_count": 9,
   "metadata": {
    "colab": {
     "base_uri": "https://localhost:8080/"
    },
    "id": "6sGk5L9EXocP",
    "outputId": "bcc428f7-3265-48bf-effe-a1581b98974f"
   },
   "outputs": [
    {
     "name": "stdout",
     "output_type": "stream",
     "text": [
      "<class 'pandas.core.frame.DataFrame'>\n",
      "Int64Index: 2436 entries, 3340 to 3174\n",
      "Data columns (total 1 columns):\n",
      " #   Column  Non-Null Count  Dtype  \n",
      "---  ------  --------------  -----  \n",
      " 0   AQI     2436 non-null   float64\n",
      "dtypes: float64(1)\n",
      "memory usage: 38.1 KB\n"
     ]
    }
   ],
   "source": [
    "df_y.info()\n"
   ]
  },
  {
   "cell_type": "code",
   "execution_count": 10,
   "metadata": {
    "colab": {
     "base_uri": "https://localhost:8080/"
    },
    "id": "vDjRkGAVXqU-",
    "outputId": "9fea42c9-a2d0-42a0-b3d2-1b92fca3f796"
   },
   "outputs": [
    {
     "name": "stdout",
     "output_type": "stream",
     "text": [
      "<class 'pandas.core.frame.DataFrame'>\n",
      "Int64Index: 1045 entries, 2457 to 1545\n",
      "Data columns (total 12 columns):\n",
      " #   Column   Non-Null Count  Dtype  \n",
      "---  ------   --------------  -----  \n",
      " 0   Date     1045 non-null   object \n",
      " 1   PM2.5    1045 non-null   float64\n",
      " 2   PM10     1045 non-null   float64\n",
      " 3   NO       1045 non-null   float64\n",
      " 4   NO2      1045 non-null   float64\n",
      " 5   NOx      1045 non-null   float64\n",
      " 6   NH3      1045 non-null   float64\n",
      " 7   CO       1045 non-null   float64\n",
      " 8   SO2      1045 non-null   float64\n",
      " 9   O3       1045 non-null   float64\n",
      " 10  Benzene  1045 non-null   float64\n",
      " 11  Toluene  1045 non-null   float64\n",
      "dtypes: float64(11), object(1)\n",
      "memory usage: 106.1+ KB\n"
     ]
    }
   ],
   "source": [
    "df_x1.info()\n"
   ]
  },
  {
   "cell_type": "code",
   "execution_count": 11,
   "metadata": {
    "colab": {
     "base_uri": "https://localhost:8080/"
    },
    "id": "wh8slNkZXrZJ",
    "outputId": "3b26f22a-6761-42ed-d055-c1227e15d290"
   },
   "outputs": [
    {
     "name": "stdout",
     "output_type": "stream",
     "text": [
      "<class 'pandas.core.frame.DataFrame'>\n",
      "Int64Index: 1045 entries, 2457 to 1545\n",
      "Data columns (total 1 columns):\n",
      " #   Column  Non-Null Count  Dtype  \n",
      "---  ------  --------------  -----  \n",
      " 0   AQI     1045 non-null   float64\n",
      "dtypes: float64(1)\n",
      "memory usage: 16.3 KB\n"
     ]
    }
   ],
   "source": [
    "df_y1.info()\n"
   ]
  },
  {
   "cell_type": "code",
   "execution_count": 12,
   "metadata": {
    "id": "nZ5mIyZgXs0v"
   },
   "outputs": [],
   "source": [
    "df_x[\"Date\"] = pd.to_datetime(df_x[\"Date\"])  #pandas datetime object\n",
    "df_x1[\"Date\"] = pd.to_datetime(df_x[\"Date\"])"
   ]
  },
  {
   "cell_type": "code",
   "execution_count": 13,
   "metadata": {
    "colab": {
     "base_uri": "https://localhost:8080/"
    },
    "id": "xCTmkz9MXuJ9",
    "outputId": "6b60d714-98a1-495f-e8f4-2c6968f9bc2c"
   },
   "outputs": [
    {
     "name": "stdout",
     "output_type": "stream",
     "text": [
      "<class 'pandas.core.frame.DataFrame'>\n",
      "Int64Index: 2436 entries, 3340 to 3174\n",
      "Data columns (total 12 columns):\n",
      " #   Column   Non-Null Count  Dtype         \n",
      "---  ------   --------------  -----         \n",
      " 0   Date     2436 non-null   datetime64[ns]\n",
      " 1   PM2.5    2436 non-null   float64       \n",
      " 2   PM10     2436 non-null   float64       \n",
      " 3   NO       2436 non-null   float64       \n",
      " 4   NO2      2436 non-null   float64       \n",
      " 5   NOx      2436 non-null   float64       \n",
      " 6   NH3      2436 non-null   float64       \n",
      " 7   CO       2436 non-null   float64       \n",
      " 8   SO2      2436 non-null   float64       \n",
      " 9   O3       2436 non-null   float64       \n",
      " 10  Benzene  2436 non-null   float64       \n",
      " 11  Toluene  2436 non-null   float64       \n",
      "dtypes: datetime64[ns](1), float64(11)\n",
      "memory usage: 311.9 KB\n"
     ]
    }
   ],
   "source": [
    "df_x.info()\n"
   ]
  },
  {
   "cell_type": "code",
   "execution_count": 14,
   "metadata": {
    "colab": {
     "base_uri": "https://localhost:8080/"
    },
    "id": "sxhc5WBRXvHn",
    "outputId": "41396990-3376-4bd2-9c41-b619970f4579"
   },
   "outputs": [
    {
     "name": "stdout",
     "output_type": "stream",
     "text": [
      "<class 'pandas.core.frame.DataFrame'>\n",
      "Int64Index: 1045 entries, 2457 to 1545\n",
      "Data columns (total 12 columns):\n",
      " #   Column   Non-Null Count  Dtype         \n",
      "---  ------   --------------  -----         \n",
      " 0   Date     0 non-null      datetime64[ns]\n",
      " 1   PM2.5    1045 non-null   float64       \n",
      " 2   PM10     1045 non-null   float64       \n",
      " 3   NO       1045 non-null   float64       \n",
      " 4   NO2      1045 non-null   float64       \n",
      " 5   NOx      1045 non-null   float64       \n",
      " 6   NH3      1045 non-null   float64       \n",
      " 7   CO       1045 non-null   float64       \n",
      " 8   SO2      1045 non-null   float64       \n",
      " 9   O3       1045 non-null   float64       \n",
      " 10  Benzene  1045 non-null   float64       \n",
      " 11  Toluene  1045 non-null   float64       \n",
      "dtypes: datetime64[ns](1), float64(11)\n",
      "memory usage: 106.1 KB\n"
     ]
    }
   ],
   "source": [
    "df_x1.info()\n"
   ]
  },
  {
   "cell_type": "code",
   "execution_count": 15,
   "metadata": {},
   "outputs": [
    {
     "data": {
      "text/html": [
       "<div>\n",
       "<style scoped>\n",
       "    .dataframe tbody tr th:only-of-type {\n",
       "        vertical-align: middle;\n",
       "    }\n",
       "\n",
       "    .dataframe tbody tr th {\n",
       "        vertical-align: top;\n",
       "    }\n",
       "\n",
       "    .dataframe thead th {\n",
       "        text-align: right;\n",
       "    }\n",
       "</style>\n",
       "<table border=\"1\" class=\"dataframe\">\n",
       "  <thead>\n",
       "    <tr style=\"text-align: right;\">\n",
       "      <th></th>\n",
       "      <th>Date</th>\n",
       "      <th>PM2.5</th>\n",
       "      <th>PM10</th>\n",
       "      <th>NO</th>\n",
       "      <th>NO2</th>\n",
       "      <th>NOx</th>\n",
       "      <th>NH3</th>\n",
       "      <th>CO</th>\n",
       "      <th>SO2</th>\n",
       "      <th>O3</th>\n",
       "      <th>Benzene</th>\n",
       "      <th>Toluene</th>\n",
       "    </tr>\n",
       "  </thead>\n",
       "  <tbody>\n",
       "    <tr>\n",
       "      <th>3340</th>\n",
       "      <td>False</td>\n",
       "      <td>False</td>\n",
       "      <td>False</td>\n",
       "      <td>False</td>\n",
       "      <td>False</td>\n",
       "      <td>False</td>\n",
       "      <td>False</td>\n",
       "      <td>False</td>\n",
       "      <td>False</td>\n",
       "      <td>False</td>\n",
       "      <td>False</td>\n",
       "      <td>False</td>\n",
       "    </tr>\n",
       "    <tr>\n",
       "      <th>1891</th>\n",
       "      <td>False</td>\n",
       "      <td>False</td>\n",
       "      <td>False</td>\n",
       "      <td>False</td>\n",
       "      <td>False</td>\n",
       "      <td>False</td>\n",
       "      <td>False</td>\n",
       "      <td>False</td>\n",
       "      <td>False</td>\n",
       "      <td>False</td>\n",
       "      <td>False</td>\n",
       "      <td>False</td>\n",
       "    </tr>\n",
       "    <tr>\n",
       "      <th>3084</th>\n",
       "      <td>False</td>\n",
       "      <td>False</td>\n",
       "      <td>False</td>\n",
       "      <td>False</td>\n",
       "      <td>False</td>\n",
       "      <td>False</td>\n",
       "      <td>False</td>\n",
       "      <td>False</td>\n",
       "      <td>False</td>\n",
       "      <td>False</td>\n",
       "      <td>False</td>\n",
       "      <td>False</td>\n",
       "    </tr>\n",
       "    <tr>\n",
       "      <th>2246</th>\n",
       "      <td>False</td>\n",
       "      <td>False</td>\n",
       "      <td>False</td>\n",
       "      <td>False</td>\n",
       "      <td>False</td>\n",
       "      <td>False</td>\n",
       "      <td>False</td>\n",
       "      <td>False</td>\n",
       "      <td>False</td>\n",
       "      <td>False</td>\n",
       "      <td>False</td>\n",
       "      <td>False</td>\n",
       "    </tr>\n",
       "    <tr>\n",
       "      <th>3321</th>\n",
       "      <td>False</td>\n",
       "      <td>False</td>\n",
       "      <td>False</td>\n",
       "      <td>False</td>\n",
       "      <td>False</td>\n",
       "      <td>False</td>\n",
       "      <td>False</td>\n",
       "      <td>False</td>\n",
       "      <td>False</td>\n",
       "      <td>False</td>\n",
       "      <td>False</td>\n",
       "      <td>False</td>\n",
       "    </tr>\n",
       "    <tr>\n",
       "      <th>...</th>\n",
       "      <td>...</td>\n",
       "      <td>...</td>\n",
       "      <td>...</td>\n",
       "      <td>...</td>\n",
       "      <td>...</td>\n",
       "      <td>...</td>\n",
       "      <td>...</td>\n",
       "      <td>...</td>\n",
       "      <td>...</td>\n",
       "      <td>...</td>\n",
       "      <td>...</td>\n",
       "      <td>...</td>\n",
       "    </tr>\n",
       "    <tr>\n",
       "      <th>1095</th>\n",
       "      <td>False</td>\n",
       "      <td>False</td>\n",
       "      <td>False</td>\n",
       "      <td>False</td>\n",
       "      <td>False</td>\n",
       "      <td>False</td>\n",
       "      <td>False</td>\n",
       "      <td>False</td>\n",
       "      <td>False</td>\n",
       "      <td>False</td>\n",
       "      <td>False</td>\n",
       "      <td>False</td>\n",
       "    </tr>\n",
       "    <tr>\n",
       "      <th>1130</th>\n",
       "      <td>False</td>\n",
       "      <td>False</td>\n",
       "      <td>False</td>\n",
       "      <td>False</td>\n",
       "      <td>False</td>\n",
       "      <td>False</td>\n",
       "      <td>False</td>\n",
       "      <td>False</td>\n",
       "      <td>False</td>\n",
       "      <td>False</td>\n",
       "      <td>False</td>\n",
       "      <td>False</td>\n",
       "    </tr>\n",
       "    <tr>\n",
       "      <th>1294</th>\n",
       "      <td>False</td>\n",
       "      <td>False</td>\n",
       "      <td>False</td>\n",
       "      <td>False</td>\n",
       "      <td>False</td>\n",
       "      <td>False</td>\n",
       "      <td>False</td>\n",
       "      <td>False</td>\n",
       "      <td>False</td>\n",
       "      <td>False</td>\n",
       "      <td>False</td>\n",
       "      <td>False</td>\n",
       "    </tr>\n",
       "    <tr>\n",
       "      <th>860</th>\n",
       "      <td>False</td>\n",
       "      <td>False</td>\n",
       "      <td>False</td>\n",
       "      <td>False</td>\n",
       "      <td>False</td>\n",
       "      <td>False</td>\n",
       "      <td>False</td>\n",
       "      <td>False</td>\n",
       "      <td>False</td>\n",
       "      <td>False</td>\n",
       "      <td>False</td>\n",
       "      <td>False</td>\n",
       "    </tr>\n",
       "    <tr>\n",
       "      <th>3174</th>\n",
       "      <td>False</td>\n",
       "      <td>False</td>\n",
       "      <td>False</td>\n",
       "      <td>False</td>\n",
       "      <td>False</td>\n",
       "      <td>False</td>\n",
       "      <td>False</td>\n",
       "      <td>False</td>\n",
       "      <td>False</td>\n",
       "      <td>False</td>\n",
       "      <td>False</td>\n",
       "      <td>False</td>\n",
       "    </tr>\n",
       "  </tbody>\n",
       "</table>\n",
       "<p>2436 rows × 12 columns</p>\n",
       "</div>"
      ],
      "text/plain": [
       "       Date  PM2.5   PM10     NO    NO2    NOx    NH3     CO    SO2     O3  \\\n",
       "3340  False  False  False  False  False  False  False  False  False  False   \n",
       "1891  False  False  False  False  False  False  False  False  False  False   \n",
       "3084  False  False  False  False  False  False  False  False  False  False   \n",
       "2246  False  False  False  False  False  False  False  False  False  False   \n",
       "3321  False  False  False  False  False  False  False  False  False  False   \n",
       "...     ...    ...    ...    ...    ...    ...    ...    ...    ...    ...   \n",
       "1095  False  False  False  False  False  False  False  False  False  False   \n",
       "1130  False  False  False  False  False  False  False  False  False  False   \n",
       "1294  False  False  False  False  False  False  False  False  False  False   \n",
       "860   False  False  False  False  False  False  False  False  False  False   \n",
       "3174  False  False  False  False  False  False  False  False  False  False   \n",
       "\n",
       "      Benzene  Toluene  \n",
       "3340    False    False  \n",
       "1891    False    False  \n",
       "3084    False    False  \n",
       "2246    False    False  \n",
       "3321    False    False  \n",
       "...       ...      ...  \n",
       "1095    False    False  \n",
       "1130    False    False  \n",
       "1294    False    False  \n",
       "860     False    False  \n",
       "3174    False    False  \n",
       "\n",
       "[2436 rows x 12 columns]"
      ]
     },
     "execution_count": 15,
     "metadata": {},
     "output_type": "execute_result"
    }
   ],
   "source": [
    "df_x.isnull()"
   ]
  },
  {
   "cell_type": "code",
   "execution_count": 16,
   "metadata": {
    "id": "vS2Qnza7XwnH"
   },
   "outputs": [],
   "source": [
    "x_train = df_x.drop(['Date'], axis = 1) #axis=1 is for columns axis =0 for rows\n",
    "y_train = df_y[\"AQI\"]\n",
    "x_test = df_x1.drop(['Date'], axis = 1)\n",
    "y_test = df_y1[\"AQI\"]"
   ]
  },
  {
   "cell_type": "code",
   "execution_count": 17,
   "metadata": {
    "colab": {
     "base_uri": "https://localhost:8080/",
     "height": 206
    },
    "id": "DwdW9hf8Xy6L",
    "outputId": "0030120e-2aba-4d36-942e-b263e91564b0"
   },
   "outputs": [
    {
     "data": {
      "text/html": [
       "<div>\n",
       "<style scoped>\n",
       "    .dataframe tbody tr th:only-of-type {\n",
       "        vertical-align: middle;\n",
       "    }\n",
       "\n",
       "    .dataframe tbody tr th {\n",
       "        vertical-align: top;\n",
       "    }\n",
       "\n",
       "    .dataframe thead th {\n",
       "        text-align: right;\n",
       "    }\n",
       "</style>\n",
       "<table border=\"1\" class=\"dataframe\">\n",
       "  <thead>\n",
       "    <tr style=\"text-align: right;\">\n",
       "      <th></th>\n",
       "      <th>PM2.5</th>\n",
       "      <th>PM10</th>\n",
       "      <th>NO</th>\n",
       "      <th>NO2</th>\n",
       "      <th>NOx</th>\n",
       "      <th>NH3</th>\n",
       "      <th>CO</th>\n",
       "      <th>SO2</th>\n",
       "      <th>O3</th>\n",
       "      <th>Benzene</th>\n",
       "      <th>Toluene</th>\n",
       "    </tr>\n",
       "  </thead>\n",
       "  <tbody>\n",
       "    <tr>\n",
       "      <th>3340</th>\n",
       "      <td>47.966730</td>\n",
       "      <td>98.603066</td>\n",
       "      <td>6.301730</td>\n",
       "      <td>36.568209</td>\n",
       "      <td>31.648525</td>\n",
       "      <td>15.205400</td>\n",
       "      <td>0.896370</td>\n",
       "      <td>5.140499</td>\n",
       "      <td>61.861208</td>\n",
       "      <td>0.355730</td>\n",
       "      <td>1.431781</td>\n",
       "    </tr>\n",
       "    <tr>\n",
       "      <th>1891</th>\n",
       "      <td>80.565142</td>\n",
       "      <td>178.794134</td>\n",
       "      <td>8.108524</td>\n",
       "      <td>58.826191</td>\n",
       "      <td>24.033996</td>\n",
       "      <td>18.934965</td>\n",
       "      <td>1.898006</td>\n",
       "      <td>13.717837</td>\n",
       "      <td>59.229800</td>\n",
       "      <td>3.225720</td>\n",
       "      <td>0.986501</td>\n",
       "    </tr>\n",
       "    <tr>\n",
       "      <th>3084</th>\n",
       "      <td>75.949073</td>\n",
       "      <td>141.850109</td>\n",
       "      <td>10.035322</td>\n",
       "      <td>35.606861</td>\n",
       "      <td>28.138611</td>\n",
       "      <td>32.499321</td>\n",
       "      <td>1.109597</td>\n",
       "      <td>5.567862</td>\n",
       "      <td>77.580613</td>\n",
       "      <td>2.445136</td>\n",
       "      <td>2.296515</td>\n",
       "    </tr>\n",
       "    <tr>\n",
       "      <th>2246</th>\n",
       "      <td>28.873438</td>\n",
       "      <td>41.534324</td>\n",
       "      <td>9.620867</td>\n",
       "      <td>23.603695</td>\n",
       "      <td>20.180453</td>\n",
       "      <td>34.539938</td>\n",
       "      <td>0.276409</td>\n",
       "      <td>4.987171</td>\n",
       "      <td>18.085293</td>\n",
       "      <td>2.402373</td>\n",
       "      <td>5.347146</td>\n",
       "    </tr>\n",
       "    <tr>\n",
       "      <th>3321</th>\n",
       "      <td>64.385214</td>\n",
       "      <td>114.663476</td>\n",
       "      <td>15.569108</td>\n",
       "      <td>52.189393</td>\n",
       "      <td>55.326376</td>\n",
       "      <td>28.516491</td>\n",
       "      <td>1.047039</td>\n",
       "      <td>6.915086</td>\n",
       "      <td>58.973281</td>\n",
       "      <td>0.375800</td>\n",
       "      <td>1.409053</td>\n",
       "    </tr>\n",
       "  </tbody>\n",
       "</table>\n",
       "</div>"
      ],
      "text/plain": [
       "          PM2.5        PM10         NO        NO2        NOx        NH3  \\\n",
       "3340  47.966730   98.603066   6.301730  36.568209  31.648525  15.205400   \n",
       "1891  80.565142  178.794134   8.108524  58.826191  24.033996  18.934965   \n",
       "3084  75.949073  141.850109  10.035322  35.606861  28.138611  32.499321   \n",
       "2246  28.873438   41.534324   9.620867  23.603695  20.180453  34.539938   \n",
       "3321  64.385214  114.663476  15.569108  52.189393  55.326376  28.516491   \n",
       "\n",
       "            CO        SO2         O3   Benzene   Toluene  \n",
       "3340  0.896370   5.140499  61.861208  0.355730  1.431781  \n",
       "1891  1.898006  13.717837  59.229800  3.225720  0.986501  \n",
       "3084  1.109597   5.567862  77.580613  2.445136  2.296515  \n",
       "2246  0.276409   4.987171  18.085293  2.402373  5.347146  \n",
       "3321  1.047039   6.915086  58.973281  0.375800  1.409053  "
      ]
     },
     "execution_count": 17,
     "metadata": {},
     "output_type": "execute_result"
    }
   ],
   "source": [
    "x_train.head(5)\n"
   ]
  },
  {
   "cell_type": "code",
   "execution_count": 18,
   "metadata": {
    "colab": {
     "base_uri": "https://localhost:8080/",
     "height": 206
    },
    "id": "m9MI3yWpX0OZ",
    "outputId": "11fa40a6-92b4-4504-c64c-c7062ed73833"
   },
   "outputs": [
    {
     "data": {
      "text/html": [
       "<div>\n",
       "<style scoped>\n",
       "    .dataframe tbody tr th:only-of-type {\n",
       "        vertical-align: middle;\n",
       "    }\n",
       "\n",
       "    .dataframe tbody tr th {\n",
       "        vertical-align: top;\n",
       "    }\n",
       "\n",
       "    .dataframe thead th {\n",
       "        text-align: right;\n",
       "    }\n",
       "</style>\n",
       "<table border=\"1\" class=\"dataframe\">\n",
       "  <thead>\n",
       "    <tr style=\"text-align: right;\">\n",
       "      <th></th>\n",
       "      <th>PM2.5</th>\n",
       "      <th>PM10</th>\n",
       "      <th>NO</th>\n",
       "      <th>NO2</th>\n",
       "      <th>NOx</th>\n",
       "      <th>NH3</th>\n",
       "      <th>CO</th>\n",
       "      <th>SO2</th>\n",
       "      <th>O3</th>\n",
       "      <th>Benzene</th>\n",
       "      <th>Toluene</th>\n",
       "    </tr>\n",
       "  </thead>\n",
       "  <tbody>\n",
       "    <tr>\n",
       "      <th>2457</th>\n",
       "      <td>13.629210</td>\n",
       "      <td>38.479891</td>\n",
       "      <td>8.582396</td>\n",
       "      <td>21.864387</td>\n",
       "      <td>24.977347</td>\n",
       "      <td>12.307485</td>\n",
       "      <td>0.713785</td>\n",
       "      <td>3.539877</td>\n",
       "      <td>18.469950</td>\n",
       "      <td>0.337411</td>\n",
       "      <td>1.210040</td>\n",
       "    </tr>\n",
       "    <tr>\n",
       "      <th>1114</th>\n",
       "      <td>34.240000</td>\n",
       "      <td>78.000000</td>\n",
       "      <td>11.340000</td>\n",
       "      <td>22.990000</td>\n",
       "      <td>27.530000</td>\n",
       "      <td>16.130000</td>\n",
       "      <td>0.970000</td>\n",
       "      <td>6.610000</td>\n",
       "      <td>20.890000</td>\n",
       "      <td>0.670000</td>\n",
       "      <td>2.320000</td>\n",
       "    </tr>\n",
       "    <tr>\n",
       "      <th>1298</th>\n",
       "      <td>20.300000</td>\n",
       "      <td>54.560000</td>\n",
       "      <td>4.210000</td>\n",
       "      <td>15.270000</td>\n",
       "      <td>17.170000</td>\n",
       "      <td>8.070000</td>\n",
       "      <td>0.750000</td>\n",
       "      <td>5.450000</td>\n",
       "      <td>32.260000</td>\n",
       "      <td>0.360000</td>\n",
       "      <td>1.360000</td>\n",
       "    </tr>\n",
       "    <tr>\n",
       "      <th>1442</th>\n",
       "      <td>25.423570</td>\n",
       "      <td>96.847312</td>\n",
       "      <td>9.666550</td>\n",
       "      <td>40.279245</td>\n",
       "      <td>0.275769</td>\n",
       "      <td>27.443613</td>\n",
       "      <td>7.296114</td>\n",
       "      <td>2.520185</td>\n",
       "      <td>12.258222</td>\n",
       "      <td>1.953182</td>\n",
       "      <td>2.395256</td>\n",
       "    </tr>\n",
       "    <tr>\n",
       "      <th>1665</th>\n",
       "      <td>27.472827</td>\n",
       "      <td>83.997641</td>\n",
       "      <td>6.881063</td>\n",
       "      <td>20.687176</td>\n",
       "      <td>14.355665</td>\n",
       "      <td>31.802182</td>\n",
       "      <td>5.646142</td>\n",
       "      <td>2.436341</td>\n",
       "      <td>38.767221</td>\n",
       "      <td>0.987250</td>\n",
       "      <td>2.196206</td>\n",
       "    </tr>\n",
       "  </tbody>\n",
       "</table>\n",
       "</div>"
      ],
      "text/plain": [
       "          PM2.5       PM10         NO        NO2        NOx        NH3  \\\n",
       "2457  13.629210  38.479891   8.582396  21.864387  24.977347  12.307485   \n",
       "1114  34.240000  78.000000  11.340000  22.990000  27.530000  16.130000   \n",
       "1298  20.300000  54.560000   4.210000  15.270000  17.170000   8.070000   \n",
       "1442  25.423570  96.847312   9.666550  40.279245   0.275769  27.443613   \n",
       "1665  27.472827  83.997641   6.881063  20.687176  14.355665  31.802182   \n",
       "\n",
       "            CO       SO2         O3   Benzene   Toluene  \n",
       "2457  0.713785  3.539877  18.469950  0.337411  1.210040  \n",
       "1114  0.970000  6.610000  20.890000  0.670000  2.320000  \n",
       "1298  0.750000  5.450000  32.260000  0.360000  1.360000  \n",
       "1442  7.296114  2.520185  12.258222  1.953182  2.395256  \n",
       "1665  5.646142  2.436341  38.767221  0.987250  2.196206  "
      ]
     },
     "execution_count": 18,
     "metadata": {},
     "output_type": "execute_result"
    }
   ],
   "source": [
    "x_test.head(5)\n"
   ]
  },
  {
   "cell_type": "code",
   "execution_count": 19,
   "metadata": {
    "colab": {
     "base_uri": "https://localhost:8080/"
    },
    "id": "xw290Ll7X1U3",
    "outputId": "b54faa91-a527-40f0-94af-62446c4db03f"
   },
   "outputs": [
    {
     "data": {
      "text/plain": [
       "3340    102.166782\n",
       "1891    209.525386\n",
       "3084    154.162083\n",
       "2246     47.000000\n",
       "3321    124.516687\n",
       "Name: AQI, dtype: float64"
      ]
     },
     "execution_count": 19,
     "metadata": {},
     "output_type": "execute_result"
    }
   ],
   "source": [
    "y_train.head(5)\n"
   ]
  },
  {
   "cell_type": "code",
   "execution_count": 20,
   "metadata": {
    "colab": {
     "base_uri": "https://localhost:8080/"
    },
    "id": "vc0g9QB7X2t9",
    "outputId": "8caee5b4-ace3-4c87-8eeb-e28f70e09926"
   },
   "outputs": [
    {
     "data": {
      "text/plain": [
       "2457     49.018314\n",
       "1114     80.000000\n",
       "1298     61.000000\n",
       "1442    231.042311\n",
       "1665    220.207174\n",
       "Name: AQI, dtype: float64"
      ]
     },
     "execution_count": 20,
     "metadata": {},
     "output_type": "execute_result"
    }
   ],
   "source": [
    "y_test.head(5)\n"
   ]
  },
  {
   "cell_type": "code",
   "execution_count": 21,
   "metadata": {
    "id": "aup4hdZEX4IQ"
   },
   "outputs": [],
   "source": [
    "#feature scaling\n",
    "#we need to normalize data values as ml models work more better and faster when the values are small and in sync with each other\n",
    "from sklearn.preprocessing import StandardScaler, MinMaxScaler\n",
    "sc_x = StandardScaler()   #for standardizing the data values into standard format->normalisation of data makes mean = 0 and unit variance\n",
    "sc_y = StandardScaler()\n",
    "x_train = sc_x.fit_transform(x_train)  #scale the training data and also learn the scaling parameters of that data. The fit method is calculating the mean and variance of each of the features present in our data. The transform method is transforming all the features using the respective mean and variance.\n",
    "x_test=sc_x.transform(x_test)\n",
    "y_train = sc_y.fit_transform(np.array(y_train).reshape(-1,1)) \n",
    "y_test = sc_y.transform(np.array(y_test).reshape(-1,1))"
   ]
  },
  {
   "cell_type": "code",
   "execution_count": 22,
   "metadata": {
    "colab": {
     "base_uri": "https://localhost:8080/"
    },
    "id": "dy4YDRFeX5ut",
    "outputId": "59810770-5ce1-466a-e086-8c79358d9038"
   },
   "outputs": [
    {
     "data": {
      "text/plain": [
       "array([[-0.9371146 ],\n",
       "       [-0.49188946],\n",
       "       [-0.76493069],\n",
       "       [ 1.67867784],\n",
       "       [ 1.52297052]])"
      ]
     },
     "execution_count": 22,
     "metadata": {},
     "output_type": "execute_result"
    }
   ],
   "source": [
    "y_test[:5]\n"
   ]
  },
  {
   "cell_type": "code",
   "execution_count": 23,
   "metadata": {
    "colab": {
     "base_uri": "https://localhost:8080/"
    },
    "id": "37DSBoaXX7Nt",
    "outputId": "5e0e7c63-a452-4ac5-aff3-7778d753b937"
   },
   "outputs": [
    {
     "data": {
      "text/html": [
       "<style>#sk-container-id-1 {color: black;background-color: white;}#sk-container-id-1 pre{padding: 0;}#sk-container-id-1 div.sk-toggleable {background-color: white;}#sk-container-id-1 label.sk-toggleable__label {cursor: pointer;display: block;width: 100%;margin-bottom: 0;padding: 0.3em;box-sizing: border-box;text-align: center;}#sk-container-id-1 label.sk-toggleable__label-arrow:before {content: \"▸\";float: left;margin-right: 0.25em;color: #696969;}#sk-container-id-1 label.sk-toggleable__label-arrow:hover:before {color: black;}#sk-container-id-1 div.sk-estimator:hover label.sk-toggleable__label-arrow:before {color: black;}#sk-container-id-1 div.sk-toggleable__content {max-height: 0;max-width: 0;overflow: hidden;text-align: left;background-color: #f0f8ff;}#sk-container-id-1 div.sk-toggleable__content pre {margin: 0.2em;color: black;border-radius: 0.25em;background-color: #f0f8ff;}#sk-container-id-1 input.sk-toggleable__control:checked~div.sk-toggleable__content {max-height: 200px;max-width: 100%;overflow: auto;}#sk-container-id-1 input.sk-toggleable__control:checked~label.sk-toggleable__label-arrow:before {content: \"▾\";}#sk-container-id-1 div.sk-estimator input.sk-toggleable__control:checked~label.sk-toggleable__label {background-color: #d4ebff;}#sk-container-id-1 div.sk-label input.sk-toggleable__control:checked~label.sk-toggleable__label {background-color: #d4ebff;}#sk-container-id-1 input.sk-hidden--visually {border: 0;clip: rect(1px 1px 1px 1px);clip: rect(1px, 1px, 1px, 1px);height: 1px;margin: -1px;overflow: hidden;padding: 0;position: absolute;width: 1px;}#sk-container-id-1 div.sk-estimator {font-family: monospace;background-color: #f0f8ff;border: 1px dotted black;border-radius: 0.25em;box-sizing: border-box;margin-bottom: 0.5em;}#sk-container-id-1 div.sk-estimator:hover {background-color: #d4ebff;}#sk-container-id-1 div.sk-parallel-item::after {content: \"\";width: 100%;border-bottom: 1px solid gray;flex-grow: 1;}#sk-container-id-1 div.sk-label:hover label.sk-toggleable__label {background-color: #d4ebff;}#sk-container-id-1 div.sk-serial::before {content: \"\";position: absolute;border-left: 1px solid gray;box-sizing: border-box;top: 0;bottom: 0;left: 50%;z-index: 0;}#sk-container-id-1 div.sk-serial {display: flex;flex-direction: column;align-items: center;background-color: white;padding-right: 0.2em;padding-left: 0.2em;position: relative;}#sk-container-id-1 div.sk-item {position: relative;z-index: 1;}#sk-container-id-1 div.sk-parallel {display: flex;align-items: stretch;justify-content: center;background-color: white;position: relative;}#sk-container-id-1 div.sk-item::before, #sk-container-id-1 div.sk-parallel-item::before {content: \"\";position: absolute;border-left: 1px solid gray;box-sizing: border-box;top: 0;bottom: 0;left: 50%;z-index: -1;}#sk-container-id-1 div.sk-parallel-item {display: flex;flex-direction: column;z-index: 1;position: relative;background-color: white;}#sk-container-id-1 div.sk-parallel-item:first-child::after {align-self: flex-end;width: 50%;}#sk-container-id-1 div.sk-parallel-item:last-child::after {align-self: flex-start;width: 50%;}#sk-container-id-1 div.sk-parallel-item:only-child::after {width: 0;}#sk-container-id-1 div.sk-dashed-wrapped {border: 1px dashed gray;margin: 0 0.4em 0.5em 0.4em;box-sizing: border-box;padding-bottom: 0.4em;background-color: white;}#sk-container-id-1 div.sk-label label {font-family: monospace;font-weight: bold;display: inline-block;line-height: 1.2em;}#sk-container-id-1 div.sk-label-container {text-align: center;}#sk-container-id-1 div.sk-container {/* jupyter's `normalize.less` sets `[hidden] { display: none; }` but bootstrap.min.css set `[hidden] { display: none !important; }` so we also need the `!important` here to be able to override the default hidden behavior on the sphinx rendered scikit-learn.org. See: https://github.com/scikit-learn/scikit-learn/issues/21755 */display: inline-block !important;position: relative;}#sk-container-id-1 div.sk-text-repr-fallback {display: none;}</style><div id=\"sk-container-id-1\" class=\"sk-top-container\"><div class=\"sk-text-repr-fallback\"><pre>SVR()</pre><b>In a Jupyter environment, please rerun this cell to show the HTML representation or trust the notebook. <br />On GitHub, the HTML representation is unable to render, please try loading this page with nbviewer.org.</b></div><div class=\"sk-container\" hidden><div class=\"sk-item\"><div class=\"sk-estimator sk-toggleable\"><input class=\"sk-toggleable__control sk-hidden--visually\" id=\"sk-estimator-id-1\" type=\"checkbox\" checked><label for=\"sk-estimator-id-1\" class=\"sk-toggleable__label sk-toggleable__label-arrow\">SVR</label><div class=\"sk-toggleable__content\"><pre>SVR()</pre></div></div></div></div></div>"
      ],
      "text/plain": [
       "SVR()"
      ]
     },
     "execution_count": 23,
     "metadata": {},
     "output_type": "execute_result"
    }
   ],
   "source": [
    "from sklearn.svm import SVR\n",
    "regressor = SVR(kernel = 'rbf')  #kernel is a function used in SVM for helping to define decision boundaries\n",
    "#rbf= radial basis function\n",
    "regressor.fit(x_train,y_train)"
   ]
  },
  {
   "cell_type": "code",
   "execution_count": 24,
   "metadata": {
    "id": "JT2JYpGuX8up"
   },
   "outputs": [
    {
     "data": {
      "text/plain": [
       "array([-0.83636612, -0.50031852, -0.72629253, ...,  0.05602828,\n",
       "       -1.00709614,  1.4472338 ])"
      ]
     },
     "execution_count": 24,
     "metadata": {},
     "output_type": "execute_result"
    }
   ],
   "source": [
    "y_prediction =  regressor.predict(x_test)\n",
    "y_prediction"
   ]
  },
  {
   "cell_type": "code",
   "execution_count": 34,
   "metadata": {
    "colab": {
     "base_uri": "https://localhost:8080/"
    },
    "id": "3XeIEphMX_dC",
    "outputId": "8faeb559-19d2-41d5-9359-885ea7ae1e77"
   },
   "outputs": [
    {
     "name": "stdout",
     "output_type": "stream",
     "text": [
      "R2 SCORE is 0.9503411378593516\n",
      "mean_sqrd_error is  0.048739875923918825\n",
      "Root mean squared error of is 0.22077109395008854\n",
      "Mean Absolute error is 0.12824305146058818\n",
      "Accuracy is 0.8717569485394119\n"
     ]
    }
   ],
   "source": [
    "from sklearn.metrics import r2_score\n",
    "from sklearn.metrics import mean_squared_error\n",
    "from sklearn.metrics import mean_absolute_error\n",
    "from sklearn.metrics import accuracy_score\n",
    "score = r2_score(y_test,y_prediction)\n",
    "mean_error = mean_squared_error(y_test,y_prediction)\n",
    "mae = mean_absolute_error(y_test,y_prediction)\n",
    "print(\"R2 SCORE is\", score)\n",
    "print(\"mean_sqrd_error is \", mean_error)\n",
    "print(\"Root mean squared error of is\",np.sqrt(mean_error))\n",
    "print(\"Mean Absolute error is\", mae)\n",
    "print(\"Accuracy is\", 1 - mae)"
   ]
  },
  {
   "cell_type": "code",
   "execution_count": 26,
   "metadata": {
    "id": "CANPM9uzYAhW"
   },
   "outputs": [
    {
     "data": {
      "text/plain": [
       "array([[-0.9371146 ],\n",
       "       [-0.49188946],\n",
       "       [-0.76493069],\n",
       "       ...,\n",
       "       [ 0.02545182],\n",
       "       [-0.99759128],\n",
       "       [ 1.42313953]])"
      ]
     },
     "execution_count": 26,
     "metadata": {},
     "output_type": "execute_result"
    }
   ],
   "source": [
    "y_test.reshape(-1,1)\n",
    "y_test"
   ]
  },
  {
   "cell_type": "code",
   "execution_count": 27,
   "metadata": {
    "id": "9310zoK6YB0B"
   },
   "outputs": [
    {
     "data": {
      "text/plain": [
       "array([[-0.83636612],\n",
       "       [-0.50031852],\n",
       "       [-0.72629253],\n",
       "       ...,\n",
       "       [ 0.05602828],\n",
       "       [-1.00709614],\n",
       "       [ 1.4472338 ]])"
      ]
     },
     "execution_count": 27,
     "metadata": {},
     "output_type": "execute_result"
    }
   ],
   "source": [
    "y_prediction.reshape(-1,1)"
   ]
  },
  {
   "cell_type": "code",
   "execution_count": 28,
   "metadata": {
    "colab": {
     "base_uri": "https://localhost:8080/"
    },
    "id": "pi5E673AYDL4",
    "outputId": "0377b6f9-964f-4771-e588-d6452340a310"
   },
   "outputs": [
    {
     "data": {
      "text/plain": [
       "array([[-0.9371146 ],\n",
       "       [-0.49188946],\n",
       "       [-0.76493069],\n",
       "       [ 1.67867784],\n",
       "       [ 1.52297052],\n",
       "       [ 0.11167537],\n",
       "       [-0.5924836 ],\n",
       "       [-0.92367734],\n",
       "       [-0.92679337],\n",
       "       [-0.95174837]])"
      ]
     },
     "execution_count": 28,
     "metadata": {},
     "output_type": "execute_result"
    }
   ],
   "source": [
    "y_test[0:10]"
   ]
  },
  {
   "cell_type": "code",
   "execution_count": 29,
   "metadata": {
    "id": "o4lWer-ZYE99"
   },
   "outputs": [
    {
     "data": {
      "text/plain": [
       "array([[-0.83636612],\n",
       "       [-0.50031852],\n",
       "       [-0.72629253],\n",
       "       ...,\n",
       "       [ 0.05602828],\n",
       "       [-1.00709614],\n",
       "       [ 1.4472338 ]])"
      ]
     },
     "execution_count": 29,
     "metadata": {},
     "output_type": "execute_result"
    }
   ],
   "source": [
    "y_prediction.reshape(-1,1)"
   ]
  },
  {
   "cell_type": "markdown",
   "metadata": {
    "id": "u-NVs9dhU2Ry"
   },
   "source": [
    "Plotting of Graphs\n"
   ]
  },
  {
   "cell_type": "code",
   "execution_count": 30,
   "metadata": {
    "colab": {
     "base_uri": "https://localhost:8080/",
     "height": 320
    },
    "id": "JhNyUurJYGEU",
    "outputId": "1829cae5-f833-44f6-ce93-dcaad45ebd43"
   },
   "outputs": [
    {
     "data": {
      "image/png": "[encoded data removed]",
      "text/plain": [
       "<Figure size 432x288 with 1 Axes>"
      ]
     },
     "metadata": {
      "needs_background": "light"
     },
     "output_type": "display_data"
    }
   ],
   "source": [
    "plt.plot(y_test.reshape(-1,1)[0:10])\n",
    "plt.plot(y_prediction.reshape(-1,1)[0:10])\n",
    "plt.grid(which='major', linestyle='-', linewidth='0.5', color='green')\n",
    "plt.grid(which='minor', linestyle=':', linewidth='0.5', color='black')\n",
    "plt.xlabel('Observations')\n",
    "plt.ylabel('AQI difference')\n",
    "plt.gca().legend(('y_test','y_pred'))\n",
    "plt.show()\n"
   ]
  },
  {
   "cell_type": "code",
   "execution_count": 31,
   "metadata": {
    "colab": {
     "base_uri": "https://localhost:8080/",
     "height": 520
    },
    "id": "Z4LwX4UyYHdH",
    "outputId": "c819cff8-6df3-463e-9f5d-3c143576068e"
   },
   "outputs": [
    {
     "data": {
      "text/html": [
       "<div>\n",
       "<style scoped>\n",
       "    .dataframe tbody tr th:only-of-type {\n",
       "        vertical-align: middle;\n",
       "    }\n",
       "\n",
       "    .dataframe tbody tr th {\n",
       "        vertical-align: top;\n",
       "    }\n",
       "\n",
       "    .dataframe thead th {\n",
       "        text-align: right;\n",
       "    }\n",
       "</style>\n",
       "<table border=\"1\" class=\"dataframe\">\n",
       "  <thead>\n",
       "    <tr style=\"text-align: right;\">\n",
       "      <th></th>\n",
       "      <th>ACTUAL AQI</th>\n",
       "      <th>PREDICTED AQI</th>\n",
       "      <th>DIFFERENCE</th>\n",
       "      <th>ACC OR NOT</th>\n",
       "      <th>PERCENTAGE ERROR</th>\n",
       "    </tr>\n",
       "  </thead>\n",
       "  <tbody>\n",
       "    <tr>\n",
       "      <th>0</th>\n",
       "      <td>-0.937115</td>\n",
       "      <td>-0.836366</td>\n",
       "      <td>-0.100748</td>\n",
       "      <td>Accurate</td>\n",
       "      <td>-10.750924</td>\n",
       "    </tr>\n",
       "    <tr>\n",
       "      <th>1</th>\n",
       "      <td>-0.491889</td>\n",
       "      <td>-0.500319</td>\n",
       "      <td>0.008429</td>\n",
       "      <td>Accurate</td>\n",
       "      <td>-1.713609</td>\n",
       "    </tr>\n",
       "    <tr>\n",
       "      <th>2</th>\n",
       "      <td>-0.764931</td>\n",
       "      <td>-0.726293</td>\n",
       "      <td>-0.038638</td>\n",
       "      <td>Accurate</td>\n",
       "      <td>-5.051197</td>\n",
       "    </tr>\n",
       "    <tr>\n",
       "      <th>3</th>\n",
       "      <td>1.678678</td>\n",
       "      <td>1.605730</td>\n",
       "      <td>0.072948</td>\n",
       "      <td>Accurate</td>\n",
       "      <td>4.345535</td>\n",
       "    </tr>\n",
       "    <tr>\n",
       "      <th>4</th>\n",
       "      <td>1.522971</td>\n",
       "      <td>1.637507</td>\n",
       "      <td>-0.114537</td>\n",
       "      <td>Accurate</td>\n",
       "      <td>7.520616</td>\n",
       "    </tr>\n",
       "    <tr>\n",
       "      <th>5</th>\n",
       "      <td>0.111675</td>\n",
       "      <td>0.126974</td>\n",
       "      <td>-0.015299</td>\n",
       "      <td>Accurate</td>\n",
       "      <td>13.699575</td>\n",
       "    </tr>\n",
       "    <tr>\n",
       "      <th>6</th>\n",
       "      <td>-0.592484</td>\n",
       "      <td>-0.541964</td>\n",
       "      <td>-0.050520</td>\n",
       "      <td>Accurate</td>\n",
       "      <td>-8.526789</td>\n",
       "    </tr>\n",
       "    <tr>\n",
       "      <th>7</th>\n",
       "      <td>-0.923677</td>\n",
       "      <td>-1.002900</td>\n",
       "      <td>0.079222</td>\n",
       "      <td>Accurate</td>\n",
       "      <td>-8.576831</td>\n",
       "    </tr>\n",
       "    <tr>\n",
       "      <th>8</th>\n",
       "      <td>-0.926793</td>\n",
       "      <td>-0.895479</td>\n",
       "      <td>-0.031314</td>\n",
       "      <td>Accurate</td>\n",
       "      <td>-3.378775</td>\n",
       "    </tr>\n",
       "    <tr>\n",
       "      <th>9</th>\n",
       "      <td>-0.951748</td>\n",
       "      <td>-0.817305</td>\n",
       "      <td>-0.134444</td>\n",
       "      <td>Accurate</td>\n",
       "      <td>-14.125981</td>\n",
       "    </tr>\n",
       "    <tr>\n",
       "      <th>10</th>\n",
       "      <td>-0.046401</td>\n",
       "      <td>-0.141973</td>\n",
       "      <td>0.095572</td>\n",
       "      <td>Accurate</td>\n",
       "      <td>-205.969396</td>\n",
       "    </tr>\n",
       "    <tr>\n",
       "      <th>11</th>\n",
       "      <td>1.512842</td>\n",
       "      <td>1.501144</td>\n",
       "      <td>0.011698</td>\n",
       "      <td>Accurate</td>\n",
       "      <td>0.773236</td>\n",
       "    </tr>\n",
       "    <tr>\n",
       "      <th>12</th>\n",
       "      <td>-0.947000</td>\n",
       "      <td>-0.991027</td>\n",
       "      <td>0.044027</td>\n",
       "      <td>Accurate</td>\n",
       "      <td>-4.649091</td>\n",
       "    </tr>\n",
       "    <tr>\n",
       "      <th>13</th>\n",
       "      <td>-0.992987</td>\n",
       "      <td>-1.014632</td>\n",
       "      <td>0.021645</td>\n",
       "      <td>Accurate</td>\n",
       "      <td>-2.179738</td>\n",
       "    </tr>\n",
       "    <tr>\n",
       "      <th>14</th>\n",
       "      <td>0.930799</td>\n",
       "      <td>0.451138</td>\n",
       "      <td>0.479661</td>\n",
       "      <td>Accurate</td>\n",
       "      <td>51.532166</td>\n",
       "    </tr>\n",
       "    <tr>\n",
       "      <th>15</th>\n",
       "      <td>1.663330</td>\n",
       "      <td>1.573837</td>\n",
       "      <td>0.089492</td>\n",
       "      <td>Accurate</td>\n",
       "      <td>5.380319</td>\n",
       "    </tr>\n",
       "    <tr>\n",
       "      <th>16</th>\n",
       "      <td>1.658976</td>\n",
       "      <td>1.681076</td>\n",
       "      <td>-0.022100</td>\n",
       "      <td>Accurate</td>\n",
       "      <td>1.332174</td>\n",
       "    </tr>\n",
       "    <tr>\n",
       "      <th>17</th>\n",
       "      <td>-0.150765</td>\n",
       "      <td>0.095896</td>\n",
       "      <td>-0.246660</td>\n",
       "      <td>Accurate</td>\n",
       "      <td>-163.606282</td>\n",
       "    </tr>\n",
       "    <tr>\n",
       "      <th>18</th>\n",
       "      <td>-0.664337</td>\n",
       "      <td>-0.681319</td>\n",
       "      <td>0.016982</td>\n",
       "      <td>Accurate</td>\n",
       "      <td>-2.556275</td>\n",
       "    </tr>\n",
       "    <tr>\n",
       "      <th>19</th>\n",
       "      <td>1.606163</td>\n",
       "      <td>1.573060</td>\n",
       "      <td>0.033103</td>\n",
       "      <td>Accurate</td>\n",
       "      <td>2.060974</td>\n",
       "    </tr>\n",
       "    <tr>\n",
       "      <th>20</th>\n",
       "      <td>1.567641</td>\n",
       "      <td>1.375081</td>\n",
       "      <td>0.192561</td>\n",
       "      <td>Accurate</td>\n",
       "      <td>12.283456</td>\n",
       "    </tr>\n",
       "  </tbody>\n",
       "</table>\n",
       "</div>"
      ],
      "text/plain": [
       "    ACTUAL AQI  PREDICTED AQI  DIFFERENCE ACC OR NOT  PERCENTAGE ERROR\n",
       "0    -0.937115      -0.836366   -0.100748   Accurate        -10.750924\n",
       "1    -0.491889      -0.500319    0.008429   Accurate         -1.713609\n",
       "2    -0.764931      -0.726293   -0.038638   Accurate         -5.051197\n",
       "3     1.678678       1.605730    0.072948   Accurate          4.345535\n",
       "4     1.522971       1.637507   -0.114537   Accurate          7.520616\n",
       "5     0.111675       0.126974   -0.015299   Accurate         13.699575\n",
       "6    -0.592484      -0.541964   -0.050520   Accurate         -8.526789\n",
       "7    -0.923677      -1.002900    0.079222   Accurate         -8.576831\n",
       "8    -0.926793      -0.895479   -0.031314   Accurate         -3.378775\n",
       "9    -0.951748      -0.817305   -0.134444   Accurate        -14.125981\n",
       "10   -0.046401      -0.141973    0.095572   Accurate       -205.969396\n",
       "11    1.512842       1.501144    0.011698   Accurate          0.773236\n",
       "12   -0.947000      -0.991027    0.044027   Accurate         -4.649091\n",
       "13   -0.992987      -1.014632    0.021645   Accurate         -2.179738\n",
       "14    0.930799       0.451138    0.479661   Accurate         51.532166\n",
       "15    1.663330       1.573837    0.089492   Accurate          5.380319\n",
       "16    1.658976       1.681076   -0.022100   Accurate          1.332174\n",
       "17   -0.150765       0.095896   -0.246660   Accurate       -163.606282\n",
       "18   -0.664337      -0.681319    0.016982   Accurate         -2.556275\n",
       "19    1.606163       1.573060    0.033103   Accurate          2.060974\n",
       "20    1.567641       1.375081    0.192561   Accurate         12.283456"
      ]
     },
     "execution_count": 31,
     "metadata": {},
     "output_type": "execute_result"
    }
   ],
   "source": [
    "result = pd.DataFrame()\n",
    "result[\"ACTUAL AQI\"] = y_test.flatten() #collapse into 1D\n",
    "result[\"PREDICTED AQI\"] = y_prediction\n",
    "result[\"DIFFERENCE\"] = result[\"ACTUAL AQI\"] - result[\"PREDICTED AQI\"]\n",
    "result[\"ACC OR NOT\"] = np.where(abs(result[\"DIFFERENCE\"])<= 0.5, \"Accurate\", \"Inaccurate\")\n",
    "result[\"PERCENTAGE ERROR\"] = ( abs(result[\"ACTUAL AQI\"] - result[\"PREDICTED AQI\"] ) / result[\"ACTUAL AQI\"] ) * 100\n",
    "result.head(21)"
   ]
  },
  {
   "cell_type": "code",
   "execution_count": 32,
   "metadata": {
    "colab": {
     "base_uri": "https://localhost:8080/",
     "height": 284
    },
    "id": "77KimzR6_YsY",
    "outputId": "84233a73-e702-449f-f5bb-de5ac16b290e"
   },
   "outputs": [
    {
     "data": {
      "image/png": "[encoded data removed]",
      "text/plain": [
       "<Figure size 432x288 with 1 Axes>"
      ]
     },
     "metadata": {
      "needs_background": "light"
     },
     "output_type": "display_data"
    }
   ],
   "source": [
    "predictions = regressor.predict(x_test)\n",
    "fig = sns.distplot(y_test-predictions) #using the seaborn library we create an histogram of predicted values\n",
    "plt.xlabel(\"Number of bins\")\n",
    "plt.ylabel(\"Density\")\n",
    "plt.show(fig) "
   ]
  },
  {
   "cell_type": "code",
   "execution_count": 33,
   "metadata": {
    "colab": {
     "base_uri": "https://localhost:8080/",
     "height": 295
    },
    "id": "yw_kFGj7-zqg",
    "outputId": "b83589c8-dc0d-40cd-d983-3ca9f152149b"
   },
   "outputs": [
    {
     "data": {
      "image/png": "[encoded data removed]",
      "text/plain": [
       "<Figure size 432x288 with 1 Axes>"
      ]
     },
     "metadata": {
      "needs_background": "light"
     },
     "output_type": "display_data"
    }
   ],
   "source": [
    "import matplotlib.pyplot as plt\n",
    "_, ax = plt.subplots()\n",
    "\n",
    "ax.scatter(x = range(0, y_test.size), y=y_test, c = 'blue', label = 'Actual', alpha = 0.3)\n",
    "ax.scatter(x = range(0, y_prediction.size), y=y_prediction, c = 'red', label = 'Predicted', alpha = 0.3)\n",
    "#alpha=transparency\n",
    "plt.title('Actual and predicted values')\n",
    "plt.xlabel('Observations')\n",
    "plt.ylabel('Targets')\n",
    "plt.legend()\n",
    "plt.show()"
   ]
  },
  {
   "cell_type": "code",
   "execution_count": null,
   "metadata": {},
   "outputs": [],
   "source": []
  }
 ],
 "metadata": {
  "colab": {
   "collapsed_sections": [],
   "name": "dmt.ipynb",
   "provenance": []
  },
  "kernelspec": {
   "display_name": "Python 3 (ipykernel)",
   "language": "python",
   "name": "python3"
  },
  "language_info": {
   "codemirror_mode": {
    "name": "ipython",
    "version": 3
   },
   "file_extension": ".py",
   "mimetype": "text/x-python",
   "name": "python",
   "nbconvert_exporter": "python",
   "pygments_lexer": "ipython3",
   "version": "3.10.0"
  }
 },
 "nbformat": 4,
 "nbformat_minor": 1
}
