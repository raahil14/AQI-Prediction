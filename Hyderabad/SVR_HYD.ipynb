{
 "cells": [
  {
   "cell_type": "code",
   "execution_count": 1,
   "metadata": {
    "id": "GVxLhmhEuDGO"
   },
   "outputs": [],
   "source": [
    "import pandas as pd #for data analysis and machine learning task\n",
    "import numpy as np #for mathematical operations\n",
    "import matplotlib.pyplot as plt\n",
    "import seaborn as sns  #for interactive graphs\n",
    "import matplotlib.pyplot as plt\n",
    "from sklearn.model_selection import train_test_split   #for splitting data into train and test\n",
    "import warnings\n",
    "\n",
    "warnings.filterwarnings(\"ignore\")\n",
    "warnings.simplefilter(action='ignore', category=FutureWarning)"
   ]
  },
  {
   "cell_type": "code",
   "execution_count": 2,
   "metadata": {
    "colab": {
     "base_uri": "https://localhost:8080/",
     "height": 423
    },
    "id": "go2OFqRp2oL1",
    "outputId": "5bb40b6e-26aa-4a1a-cc16-56b639df1953"
   },
   "outputs": [
    {
     "data": {
      "text/html": [
       "<div>\n",
       "<style scoped>\n",
       "    .dataframe tbody tr th:only-of-type {\n",
       "        vertical-align: middle;\n",
       "    }\n",
       "\n",
       "    .dataframe tbody tr th {\n",
       "        vertical-align: top;\n",
       "    }\n",
       "\n",
       "    .dataframe thead th {\n",
       "        text-align: right;\n",
       "    }\n",
       "</style>\n",
       "<table border=\"1\" class=\"dataframe\">\n",
       "  <thead>\n",
       "    <tr style=\"text-align: right;\">\n",
       "      <th></th>\n",
       "      <th>AQI</th>\n",
       "    </tr>\n",
       "  </thead>\n",
       "  <tbody>\n",
       "    <tr>\n",
       "      <th>0</th>\n",
       "      <td>179.000000</td>\n",
       "    </tr>\n",
       "    <tr>\n",
       "      <th>1</th>\n",
       "      <td>162.000000</td>\n",
       "    </tr>\n",
       "    <tr>\n",
       "      <th>2</th>\n",
       "      <td>76.000000</td>\n",
       "    </tr>\n",
       "    <tr>\n",
       "      <th>3</th>\n",
       "      <td>140.000000</td>\n",
       "    </tr>\n",
       "    <tr>\n",
       "      <th>4</th>\n",
       "      <td>128.000000</td>\n",
       "    </tr>\n",
       "    <tr>\n",
       "      <th>...</th>\n",
       "      <td>...</td>\n",
       "    </tr>\n",
       "    <tr>\n",
       "      <th>5206</th>\n",
       "      <td>509.649077</td>\n",
       "    </tr>\n",
       "    <tr>\n",
       "      <th>5207</th>\n",
       "      <td>495.778620</td>\n",
       "    </tr>\n",
       "    <tr>\n",
       "      <th>5208</th>\n",
       "      <td>473.312645</td>\n",
       "    </tr>\n",
       "    <tr>\n",
       "      <th>5209</th>\n",
       "      <td>456.592219</td>\n",
       "    </tr>\n",
       "    <tr>\n",
       "      <th>5210</th>\n",
       "      <td>509.600786</td>\n",
       "    </tr>\n",
       "  </tbody>\n",
       "</table>\n",
       "<p>5211 rows × 1 columns</p>\n",
       "</div>"
      ],
      "text/plain": [
       "             AQI\n",
       "0     179.000000\n",
       "1     162.000000\n",
       "2      76.000000\n",
       "3     140.000000\n",
       "4     128.000000\n",
       "...          ...\n",
       "5206  509.649077\n",
       "5207  495.778620\n",
       "5208  473.312645\n",
       "5209  456.592219\n",
       "5210  509.600786\n",
       "\n",
       "[5211 rows x 1 columns]"
      ]
     },
     "execution_count": 2,
     "metadata": {},
     "output_type": "execute_result"
    }
   ],
   "source": [
    "path = \"hyddataset_smoted.csv\"\n",
    "dataset = pd.read_csv(path)\n",
    "x = dataset.iloc[:, 1:-2]  #enables us to select a particular cell of the dataset->leaving last 2\n",
    "y = dataset.iloc[:, 13:14] #only the 13th col\n",
    "y"
   ]
  },
  {
   "cell_type": "markdown",
   "metadata": {
    "id": "OVNz827nT1rV"
   },
   "source": [
    "splitting of dataset\n"
   ]
  },
  {
   "cell_type": "code",
   "execution_count": 3,
   "metadata": {
    "id": "LAedBm2KXgiG"
   },
   "outputs": [],
   "source": [
    "df_x, df_x1, df_y, df_y1 = train_test_split(x, y, test_size=0.3, random_state=42) #setting random_state to an integer so that same results come each time"
   ]
  },
  {
   "cell_type": "code",
   "execution_count": 4,
   "metadata": {
    "colab": {
     "base_uri": "https://localhost:8080/",
     "height": 206
    },
    "id": "8otc7udZXiC6",
    "outputId": "35eb666a-cc7f-4540-a214-68bd264b95e5"
   },
   "outputs": [
    {
     "data": {
      "text/html": [
       "<div>\n",
       "<style scoped>\n",
       "    .dataframe tbody tr th:only-of-type {\n",
       "        vertical-align: middle;\n",
       "    }\n",
       "\n",
       "    .dataframe tbody tr th {\n",
       "        vertical-align: top;\n",
       "    }\n",
       "\n",
       "    .dataframe thead th {\n",
       "        text-align: right;\n",
       "    }\n",
       "</style>\n",
       "<table border=\"1\" class=\"dataframe\">\n",
       "  <thead>\n",
       "    <tr style=\"text-align: right;\">\n",
       "      <th></th>\n",
       "      <th>Date</th>\n",
       "      <th>PM2.5</th>\n",
       "      <th>PM10</th>\n",
       "      <th>NO</th>\n",
       "      <th>NO2</th>\n",
       "      <th>NOx</th>\n",
       "      <th>NH3</th>\n",
       "      <th>CO</th>\n",
       "      <th>SO2</th>\n",
       "      <th>O3</th>\n",
       "      <th>Benzene</th>\n",
       "      <th>Toluene</th>\n",
       "    </tr>\n",
       "  </thead>\n",
       "  <tbody>\n",
       "    <tr>\n",
       "      <th>325</th>\n",
       "      <td>09/12/2016</td>\n",
       "      <td>63.730000</td>\n",
       "      <td>106.830000</td>\n",
       "      <td>9.610000</td>\n",
       "      <td>60.810000</td>\n",
       "      <td>12.100000</td>\n",
       "      <td>17.460000</td>\n",
       "      <td>0.290000</td>\n",
       "      <td>30.480000</td>\n",
       "      <td>62.700000</td>\n",
       "      <td>0.020000</td>\n",
       "      <td>0.080000</td>\n",
       "    </tr>\n",
       "    <tr>\n",
       "      <th>1051</th>\n",
       "      <td>17/12/2018</td>\n",
       "      <td>59.610000</td>\n",
       "      <td>95.420000</td>\n",
       "      <td>3.610000</td>\n",
       "      <td>33.950000</td>\n",
       "      <td>20.680000</td>\n",
       "      <td>10.460000</td>\n",
       "      <td>0.530000</td>\n",
       "      <td>12.910000</td>\n",
       "      <td>34.280000</td>\n",
       "      <td>3.790000</td>\n",
       "      <td>25.710000</td>\n",
       "    </tr>\n",
       "    <tr>\n",
       "      <th>3207</th>\n",
       "      <td>30/10/2015</td>\n",
       "      <td>516.276716</td>\n",
       "      <td>87.884827</td>\n",
       "      <td>3.759198</td>\n",
       "      <td>10.588000</td>\n",
       "      <td>23.211570</td>\n",
       "      <td>10.761771</td>\n",
       "      <td>1.139025</td>\n",
       "      <td>7.111169</td>\n",
       "      <td>37.540884</td>\n",
       "      <td>1.538972</td>\n",
       "      <td>12.493655</td>\n",
       "    </tr>\n",
       "    <tr>\n",
       "      <th>4475</th>\n",
       "      <td>09/08/2018</td>\n",
       "      <td>17.506699</td>\n",
       "      <td>40.224884</td>\n",
       "      <td>8.294931</td>\n",
       "      <td>27.153318</td>\n",
       "      <td>19.942687</td>\n",
       "      <td>15.714168</td>\n",
       "      <td>0.310450</td>\n",
       "      <td>6.038820</td>\n",
       "      <td>14.578334</td>\n",
       "      <td>0.998367</td>\n",
       "      <td>10.054890</td>\n",
       "    </tr>\n",
       "    <tr>\n",
       "      <th>3674</th>\n",
       "      <td>01/10/2015</td>\n",
       "      <td>185.051573</td>\n",
       "      <td>102.444793</td>\n",
       "      <td>7.028178</td>\n",
       "      <td>14.389537</td>\n",
       "      <td>17.583862</td>\n",
       "      <td>9.656412</td>\n",
       "      <td>1.090029</td>\n",
       "      <td>7.424214</td>\n",
       "      <td>29.118677</td>\n",
       "      <td>1.634415</td>\n",
       "      <td>8.903350</td>\n",
       "    </tr>\n",
       "  </tbody>\n",
       "</table>\n",
       "</div>"
      ],
      "text/plain": [
       "            Date       PM2.5        PM10        NO        NO2        NOx  \\\n",
       "325   09/12/2016   63.730000  106.830000  9.610000  60.810000  12.100000   \n",
       "1051  17/12/2018   59.610000   95.420000  3.610000  33.950000  20.680000   \n",
       "3207  30/10/2015  516.276716   87.884827  3.759198  10.588000  23.211570   \n",
       "4475  09/08/2018   17.506699   40.224884  8.294931  27.153318  19.942687   \n",
       "3674  01/10/2015  185.051573  102.444793  7.028178  14.389537  17.583862   \n",
       "\n",
       "            NH3        CO        SO2         O3   Benzene    Toluene  \n",
       "325   17.460000  0.290000  30.480000  62.700000  0.020000   0.080000  \n",
       "1051  10.460000  0.530000  12.910000  34.280000  3.790000  25.710000  \n",
       "3207  10.761771  1.139025   7.111169  37.540884  1.538972  12.493655  \n",
       "4475  15.714168  0.310450   6.038820  14.578334  0.998367  10.054890  \n",
       "3674   9.656412  1.090029   7.424214  29.118677  1.634415   8.903350  "
      ]
     },
     "execution_count": 4,
     "metadata": {},
     "output_type": "execute_result"
    }
   ],
   "source": [
    "df_x.head(5)  #method is used to return top n (5 by default) rows of a data frame or series.\n"
   ]
  },
  {
   "cell_type": "code",
   "execution_count": 5,
   "metadata": {
    "colab": {
     "base_uri": "https://localhost:8080/",
     "height": 206
    },
    "id": "W0XA6eoxXjYp",
    "outputId": "5d20dd44-3bc3-43e8-edf6-a6c4f8162981"
   },
   "outputs": [
    {
     "data": {
      "text/html": [
       "<div>\n",
       "<style scoped>\n",
       "    .dataframe tbody tr th:only-of-type {\n",
       "        vertical-align: middle;\n",
       "    }\n",
       "\n",
       "    .dataframe tbody tr th {\n",
       "        vertical-align: top;\n",
       "    }\n",
       "\n",
       "    .dataframe thead th {\n",
       "        text-align: right;\n",
       "    }\n",
       "</style>\n",
       "<table border=\"1\" class=\"dataframe\">\n",
       "  <thead>\n",
       "    <tr style=\"text-align: right;\">\n",
       "      <th></th>\n",
       "      <th>Date</th>\n",
       "      <th>PM2.5</th>\n",
       "      <th>PM10</th>\n",
       "      <th>NO</th>\n",
       "      <th>NO2</th>\n",
       "      <th>NOx</th>\n",
       "      <th>NH3</th>\n",
       "      <th>CO</th>\n",
       "      <th>SO2</th>\n",
       "      <th>O3</th>\n",
       "      <th>Benzene</th>\n",
       "      <th>Toluene</th>\n",
       "    </tr>\n",
       "  </thead>\n",
       "  <tbody>\n",
       "    <tr>\n",
       "      <th>1897</th>\n",
       "      <td>30/10/2015</td>\n",
       "      <td>516.231924</td>\n",
       "      <td>85.329454</td>\n",
       "      <td>3.042685</td>\n",
       "      <td>6.540184</td>\n",
       "      <td>15.426718</td>\n",
       "      <td>10.778211</td>\n",
       "      <td>1.094618</td>\n",
       "      <td>6.554411</td>\n",
       "      <td>37.538479</td>\n",
       "      <td>1.207714</td>\n",
       "      <td>11.810368</td>\n",
       "    </tr>\n",
       "    <tr>\n",
       "      <th>877</th>\n",
       "      <td>26/06/2018</td>\n",
       "      <td>16.230000</td>\n",
       "      <td>41.540000</td>\n",
       "      <td>3.950000</td>\n",
       "      <td>23.210000</td>\n",
       "      <td>15.220000</td>\n",
       "      <td>12.730000</td>\n",
       "      <td>0.260000</td>\n",
       "      <td>5.930000</td>\n",
       "      <td>17.500000</td>\n",
       "      <td>0.240000</td>\n",
       "      <td>1.790000</td>\n",
       "    </tr>\n",
       "    <tr>\n",
       "      <th>2927</th>\n",
       "      <td>18/08/2018</td>\n",
       "      <td>17.021800</td>\n",
       "      <td>43.464796</td>\n",
       "      <td>3.167370</td>\n",
       "      <td>13.432271</td>\n",
       "      <td>9.378126</td>\n",
       "      <td>12.767785</td>\n",
       "      <td>0.356883</td>\n",
       "      <td>9.396640</td>\n",
       "      <td>16.786825</td>\n",
       "      <td>0.163056</td>\n",
       "      <td>1.119750</td>\n",
       "    </tr>\n",
       "    <tr>\n",
       "      <th>3229</th>\n",
       "      <td>30/10/2015</td>\n",
       "      <td>513.388485</td>\n",
       "      <td>94.107891</td>\n",
       "      <td>11.044846</td>\n",
       "      <td>15.064545</td>\n",
       "      <td>32.835485</td>\n",
       "      <td>10.529613</td>\n",
       "      <td>1.569549</td>\n",
       "      <td>8.881410</td>\n",
       "      <td>38.029600</td>\n",
       "      <td>1.687901</td>\n",
       "      <td>12.509599</td>\n",
       "    </tr>\n",
       "    <tr>\n",
       "      <th>1595</th>\n",
       "      <td>13/06/2020</td>\n",
       "      <td>9.870000</td>\n",
       "      <td>23.480000</td>\n",
       "      <td>5.260000</td>\n",
       "      <td>19.350000</td>\n",
       "      <td>13.700000</td>\n",
       "      <td>10.640000</td>\n",
       "      <td>0.290000</td>\n",
       "      <td>5.320000</td>\n",
       "      <td>16.200000</td>\n",
       "      <td>0.430000</td>\n",
       "      <td>1.650000</td>\n",
       "    </tr>\n",
       "  </tbody>\n",
       "</table>\n",
       "</div>"
      ],
      "text/plain": [
       "            Date       PM2.5       PM10         NO        NO2        NOx  \\\n",
       "1897  30/10/2015  516.231924  85.329454   3.042685   6.540184  15.426718   \n",
       "877   26/06/2018   16.230000  41.540000   3.950000  23.210000  15.220000   \n",
       "2927  18/08/2018   17.021800  43.464796   3.167370  13.432271   9.378126   \n",
       "3229  30/10/2015  513.388485  94.107891  11.044846  15.064545  32.835485   \n",
       "1595  13/06/2020    9.870000  23.480000   5.260000  19.350000  13.700000   \n",
       "\n",
       "            NH3        CO       SO2         O3   Benzene    Toluene  \n",
       "1897  10.778211  1.094618  6.554411  37.538479  1.207714  11.810368  \n",
       "877   12.730000  0.260000  5.930000  17.500000  0.240000   1.790000  \n",
       "2927  12.767785  0.356883  9.396640  16.786825  0.163056   1.119750  \n",
       "3229  10.529613  1.569549  8.881410  38.029600  1.687901  12.509599  \n",
       "1595  10.640000  0.290000  5.320000  16.200000  0.430000   1.650000  "
      ]
     },
     "execution_count": 5,
     "metadata": {},
     "output_type": "execute_result"
    }
   ],
   "source": [
    "df_x1.head(5)\n"
   ]
  },
  {
   "cell_type": "code",
   "execution_count": 6,
   "metadata": {
    "colab": {
     "base_uri": "https://localhost:8080/",
     "height": 206
    },
    "id": "4k8DXPVkXkoT",
    "outputId": "246c36a2-f3a6-4112-9083-1dc5505e026e"
   },
   "outputs": [
    {
     "data": {
      "text/html": [
       "<div>\n",
       "<style scoped>\n",
       "    .dataframe tbody tr th:only-of-type {\n",
       "        vertical-align: middle;\n",
       "    }\n",
       "\n",
       "    .dataframe tbody tr th {\n",
       "        vertical-align: top;\n",
       "    }\n",
       "\n",
       "    .dataframe thead th {\n",
       "        text-align: right;\n",
       "    }\n",
       "</style>\n",
       "<table border=\"1\" class=\"dataframe\">\n",
       "  <thead>\n",
       "    <tr style=\"text-align: right;\">\n",
       "      <th></th>\n",
       "      <th>AQI</th>\n",
       "    </tr>\n",
       "  </thead>\n",
       "  <tbody>\n",
       "    <tr>\n",
       "      <th>325</th>\n",
       "      <td>126.000000</td>\n",
       "    </tr>\n",
       "    <tr>\n",
       "      <th>1051</th>\n",
       "      <td>141.000000</td>\n",
       "    </tr>\n",
       "    <tr>\n",
       "      <th>3207</th>\n",
       "      <td>480.067414</td>\n",
       "    </tr>\n",
       "    <tr>\n",
       "      <th>4475</th>\n",
       "      <td>48.097485</td>\n",
       "    </tr>\n",
       "    <tr>\n",
       "      <th>3674</th>\n",
       "      <td>368.418253</td>\n",
       "    </tr>\n",
       "  </tbody>\n",
       "</table>\n",
       "</div>"
      ],
      "text/plain": [
       "             AQI\n",
       "325   126.000000\n",
       "1051  141.000000\n",
       "3207  480.067414\n",
       "4475   48.097485\n",
       "3674  368.418253"
      ]
     },
     "execution_count": 6,
     "metadata": {},
     "output_type": "execute_result"
    }
   ],
   "source": [
    "df_y.head(5)\n"
   ]
  },
  {
   "cell_type": "code",
   "execution_count": 7,
   "metadata": {
    "colab": {
     "base_uri": "https://localhost:8080/",
     "height": 206
    },
    "id": "NB4X_1OyXmGv",
    "outputId": "c25fd421-35d8-443f-f6d0-6ffce566d305"
   },
   "outputs": [
    {
     "data": {
      "text/html": [
       "<div>\n",
       "<style scoped>\n",
       "    .dataframe tbody tr th:only-of-type {\n",
       "        vertical-align: middle;\n",
       "    }\n",
       "\n",
       "    .dataframe tbody tr th {\n",
       "        vertical-align: top;\n",
       "    }\n",
       "\n",
       "    .dataframe thead th {\n",
       "        text-align: right;\n",
       "    }\n",
       "</style>\n",
       "<table border=\"1\" class=\"dataframe\">\n",
       "  <thead>\n",
       "    <tr style=\"text-align: right;\">\n",
       "      <th></th>\n",
       "      <th>AQI</th>\n",
       "    </tr>\n",
       "  </thead>\n",
       "  <tbody>\n",
       "    <tr>\n",
       "      <th>1897</th>\n",
       "      <td>485.094868</td>\n",
       "    </tr>\n",
       "    <tr>\n",
       "      <th>877</th>\n",
       "      <td>41.000000</td>\n",
       "    </tr>\n",
       "    <tr>\n",
       "      <th>2927</th>\n",
       "      <td>48.005819</td>\n",
       "    </tr>\n",
       "    <tr>\n",
       "      <th>3229</th>\n",
       "      <td>448.105015</td>\n",
       "    </tr>\n",
       "    <tr>\n",
       "      <th>1595</th>\n",
       "      <td>38.000000</td>\n",
       "    </tr>\n",
       "  </tbody>\n",
       "</table>\n",
       "</div>"
      ],
      "text/plain": [
       "             AQI\n",
       "1897  485.094868\n",
       "877    41.000000\n",
       "2927   48.005819\n",
       "3229  448.105015\n",
       "1595   38.000000"
      ]
     },
     "execution_count": 7,
     "metadata": {},
     "output_type": "execute_result"
    }
   ],
   "source": [
    "df_y1.head(5)\n"
   ]
  },
  {
   "cell_type": "code",
   "execution_count": 8,
   "metadata": {
    "colab": {
     "base_uri": "https://localhost:8080/"
    },
    "id": "LFB0dUY-XnTV",
    "outputId": "5d173bad-e10c-4b53-bf4d-f5d4c3538cac"
   },
   "outputs": [
    {
     "name": "stdout",
     "output_type": "stream",
     "text": [
      "<class 'pandas.core.frame.DataFrame'>\n",
      "Int64Index: 3647 entries, 325 to 860\n",
      "Data columns (total 12 columns):\n",
      " #   Column   Non-Null Count  Dtype  \n",
      "---  ------   --------------  -----  \n",
      " 0   Date     3647 non-null   object \n",
      " 1   PM2.5    3647 non-null   float64\n",
      " 2   PM10     3647 non-null   float64\n",
      " 3   NO       3647 non-null   float64\n",
      " 4   NO2      3647 non-null   float64\n",
      " 5   NOx      3647 non-null   float64\n",
      " 6   NH3      3647 non-null   float64\n",
      " 7   CO       3647 non-null   float64\n",
      " 8   SO2      3647 non-null   float64\n",
      " 9   O3       3647 non-null   float64\n",
      " 10  Benzene  3647 non-null   float64\n",
      " 11  Toluene  3647 non-null   float64\n",
      "dtypes: float64(11), object(1)\n",
      "memory usage: 370.4+ KB\n"
     ]
    }
   ],
   "source": [
    "df_x.info()\n"
   ]
  },
  {
   "cell_type": "code",
   "execution_count": 9,
   "metadata": {
    "colab": {
     "base_uri": "https://localhost:8080/"
    },
    "id": "6sGk5L9EXocP",
    "outputId": "bcc428f7-3265-48bf-effe-a1581b98974f"
   },
   "outputs": [
    {
     "name": "stdout",
     "output_type": "stream",
     "text": [
      "<class 'pandas.core.frame.DataFrame'>\n",
      "Int64Index: 3647 entries, 325 to 860\n",
      "Data columns (total 1 columns):\n",
      " #   Column  Non-Null Count  Dtype  \n",
      "---  ------  --------------  -----  \n",
      " 0   AQI     3647 non-null   float64\n",
      "dtypes: float64(1)\n",
      "memory usage: 57.0 KB\n"
     ]
    }
   ],
   "source": [
    "df_y.info()\n"
   ]
  },
  {
   "cell_type": "code",
   "execution_count": 10,
   "metadata": {
    "colab": {
     "base_uri": "https://localhost:8080/"
    },
    "id": "vDjRkGAVXqU-",
    "outputId": "9fea42c9-a2d0-42a0-b3d2-1b92fca3f796"
   },
   "outputs": [
    {
     "name": "stdout",
     "output_type": "stream",
     "text": [
      "<class 'pandas.core.frame.DataFrame'>\n",
      "Int64Index: 1564 entries, 1897 to 2851\n",
      "Data columns (total 12 columns):\n",
      " #   Column   Non-Null Count  Dtype  \n",
      "---  ------   --------------  -----  \n",
      " 0   Date     1564 non-null   object \n",
      " 1   PM2.5    1564 non-null   float64\n",
      " 2   PM10     1564 non-null   float64\n",
      " 3   NO       1564 non-null   float64\n",
      " 4   NO2      1564 non-null   float64\n",
      " 5   NOx      1564 non-null   float64\n",
      " 6   NH3      1564 non-null   float64\n",
      " 7   CO       1564 non-null   float64\n",
      " 8   SO2      1564 non-null   float64\n",
      " 9   O3       1564 non-null   float64\n",
      " 10  Benzene  1564 non-null   float64\n",
      " 11  Toluene  1564 non-null   float64\n",
      "dtypes: float64(11), object(1)\n",
      "memory usage: 158.8+ KB\n"
     ]
    }
   ],
   "source": [
    "df_x1.info()\n"
   ]
  },
  {
   "cell_type": "code",
   "execution_count": 11,
   "metadata": {
    "colab": {
     "base_uri": "https://localhost:8080/"
    },
    "id": "wh8slNkZXrZJ",
    "outputId": "3b26f22a-6761-42ed-d055-c1227e15d290"
   },
   "outputs": [
    {
     "name": "stdout",
     "output_type": "stream",
     "text": [
      "<class 'pandas.core.frame.DataFrame'>\n",
      "Int64Index: 1564 entries, 1897 to 2851\n",
      "Data columns (total 1 columns):\n",
      " #   Column  Non-Null Count  Dtype  \n",
      "---  ------  --------------  -----  \n",
      " 0   AQI     1564 non-null   float64\n",
      "dtypes: float64(1)\n",
      "memory usage: 24.4 KB\n"
     ]
    }
   ],
   "source": [
    "df_y1.info()\n"
   ]
  },
  {
   "cell_type": "code",
   "execution_count": 12,
   "metadata": {
    "id": "nZ5mIyZgXs0v"
   },
   "outputs": [],
   "source": [
    "df_x[\"Date\"] = pd.to_datetime(df_x[\"Date\"])  #pandas datetime object\n",
    "df_x1[\"Date\"] = pd.to_datetime(df_x[\"Date\"])"
   ]
  },
  {
   "cell_type": "code",
   "execution_count": 13,
   "metadata": {
    "colab": {
     "base_uri": "https://localhost:8080/"
    },
    "id": "xCTmkz9MXuJ9",
    "outputId": "6b60d714-98a1-495f-e8f4-2c6968f9bc2c"
   },
   "outputs": [
    {
     "name": "stdout",
     "output_type": "stream",
     "text": [
      "<class 'pandas.core.frame.DataFrame'>\n",
      "Int64Index: 3647 entries, 325 to 860\n",
      "Data columns (total 12 columns):\n",
      " #   Column   Non-Null Count  Dtype         \n",
      "---  ------   --------------  -----         \n",
      " 0   Date     3647 non-null   datetime64[ns]\n",
      " 1   PM2.5    3647 non-null   float64       \n",
      " 2   PM10     3647 non-null   float64       \n",
      " 3   NO       3647 non-null   float64       \n",
      " 4   NO2      3647 non-null   float64       \n",
      " 5   NOx      3647 non-null   float64       \n",
      " 6   NH3      3647 non-null   float64       \n",
      " 7   CO       3647 non-null   float64       \n",
      " 8   SO2      3647 non-null   float64       \n",
      " 9   O3       3647 non-null   float64       \n",
      " 10  Benzene  3647 non-null   float64       \n",
      " 11  Toluene  3647 non-null   float64       \n",
      "dtypes: datetime64[ns](1), float64(11)\n",
      "memory usage: 499.4 KB\n"
     ]
    }
   ],
   "source": [
    "df_x.info()\n"
   ]
  },
  {
   "cell_type": "code",
   "execution_count": 14,
   "metadata": {
    "colab": {
     "base_uri": "https://localhost:8080/"
    },
    "id": "sxhc5WBRXvHn",
    "outputId": "41396990-3376-4bd2-9c41-b619970f4579"
   },
   "outputs": [
    {
     "name": "stdout",
     "output_type": "stream",
     "text": [
      "<class 'pandas.core.frame.DataFrame'>\n",
      "Int64Index: 1564 entries, 1897 to 2851\n",
      "Data columns (total 12 columns):\n",
      " #   Column   Non-Null Count  Dtype         \n",
      "---  ------   --------------  -----         \n",
      " 0   Date     0 non-null      datetime64[ns]\n",
      " 1   PM2.5    1564 non-null   float64       \n",
      " 2   PM10     1564 non-null   float64       \n",
      " 3   NO       1564 non-null   float64       \n",
      " 4   NO2      1564 non-null   float64       \n",
      " 5   NOx      1564 non-null   float64       \n",
      " 6   NH3      1564 non-null   float64       \n",
      " 7   CO       1564 non-null   float64       \n",
      " 8   SO2      1564 non-null   float64       \n",
      " 9   O3       1564 non-null   float64       \n",
      " 10  Benzene  1564 non-null   float64       \n",
      " 11  Toluene  1564 non-null   float64       \n",
      "dtypes: datetime64[ns](1), float64(11)\n",
      "memory usage: 158.8 KB\n"
     ]
    }
   ],
   "source": [
    "df_x1.info()\n"
   ]
  },
  {
   "cell_type": "code",
   "execution_count": 15,
   "metadata": {
    "id": "vS2Qnza7XwnH"
   },
   "outputs": [],
   "source": [
    "x_train = df_x.drop(['Date'], axis = 1) #axis=1 is for columns axis =0 for rows\n",
    "y_train = df_y[\"AQI\"]\n",
    "x_test = df_x1.drop(['Date'], axis = 1)\n",
    "y_test = df_y1[\"AQI\"]"
   ]
  },
  {
   "cell_type": "code",
   "execution_count": 16,
   "metadata": {
    "colab": {
     "base_uri": "https://localhost:8080/",
     "height": 206
    },
    "id": "DwdW9hf8Xy6L",
    "outputId": "0030120e-2aba-4d36-942e-b263e91564b0"
   },
   "outputs": [
    {
     "data": {
      "text/html": [
       "<div>\n",
       "<style scoped>\n",
       "    .dataframe tbody tr th:only-of-type {\n",
       "        vertical-align: middle;\n",
       "    }\n",
       "\n",
       "    .dataframe tbody tr th {\n",
       "        vertical-align: top;\n",
       "    }\n",
       "\n",
       "    .dataframe thead th {\n",
       "        text-align: right;\n",
       "    }\n",
       "</style>\n",
       "<table border=\"1\" class=\"dataframe\">\n",
       "  <thead>\n",
       "    <tr style=\"text-align: right;\">\n",
       "      <th></th>\n",
       "      <th>PM2.5</th>\n",
       "      <th>PM10</th>\n",
       "      <th>NO</th>\n",
       "      <th>NO2</th>\n",
       "      <th>NOx</th>\n",
       "      <th>NH3</th>\n",
       "      <th>CO</th>\n",
       "      <th>SO2</th>\n",
       "      <th>O3</th>\n",
       "      <th>Benzene</th>\n",
       "      <th>Toluene</th>\n",
       "    </tr>\n",
       "  </thead>\n",
       "  <tbody>\n",
       "    <tr>\n",
       "      <th>325</th>\n",
       "      <td>63.730000</td>\n",
       "      <td>106.830000</td>\n",
       "      <td>9.610000</td>\n",
       "      <td>60.810000</td>\n",
       "      <td>12.100000</td>\n",
       "      <td>17.460000</td>\n",
       "      <td>0.290000</td>\n",
       "      <td>30.480000</td>\n",
       "      <td>62.700000</td>\n",
       "      <td>0.020000</td>\n",
       "      <td>0.080000</td>\n",
       "    </tr>\n",
       "    <tr>\n",
       "      <th>1051</th>\n",
       "      <td>59.610000</td>\n",
       "      <td>95.420000</td>\n",
       "      <td>3.610000</td>\n",
       "      <td>33.950000</td>\n",
       "      <td>20.680000</td>\n",
       "      <td>10.460000</td>\n",
       "      <td>0.530000</td>\n",
       "      <td>12.910000</td>\n",
       "      <td>34.280000</td>\n",
       "      <td>3.790000</td>\n",
       "      <td>25.710000</td>\n",
       "    </tr>\n",
       "    <tr>\n",
       "      <th>3207</th>\n",
       "      <td>516.276716</td>\n",
       "      <td>87.884827</td>\n",
       "      <td>3.759198</td>\n",
       "      <td>10.588000</td>\n",
       "      <td>23.211570</td>\n",
       "      <td>10.761771</td>\n",
       "      <td>1.139025</td>\n",
       "      <td>7.111169</td>\n",
       "      <td>37.540884</td>\n",
       "      <td>1.538972</td>\n",
       "      <td>12.493655</td>\n",
       "    </tr>\n",
       "    <tr>\n",
       "      <th>4475</th>\n",
       "      <td>17.506699</td>\n",
       "      <td>40.224884</td>\n",
       "      <td>8.294931</td>\n",
       "      <td>27.153318</td>\n",
       "      <td>19.942687</td>\n",
       "      <td>15.714168</td>\n",
       "      <td>0.310450</td>\n",
       "      <td>6.038820</td>\n",
       "      <td>14.578334</td>\n",
       "      <td>0.998367</td>\n",
       "      <td>10.054890</td>\n",
       "    </tr>\n",
       "    <tr>\n",
       "      <th>3674</th>\n",
       "      <td>185.051573</td>\n",
       "      <td>102.444793</td>\n",
       "      <td>7.028178</td>\n",
       "      <td>14.389537</td>\n",
       "      <td>17.583862</td>\n",
       "      <td>9.656412</td>\n",
       "      <td>1.090029</td>\n",
       "      <td>7.424214</td>\n",
       "      <td>29.118677</td>\n",
       "      <td>1.634415</td>\n",
       "      <td>8.903350</td>\n",
       "    </tr>\n",
       "  </tbody>\n",
       "</table>\n",
       "</div>"
      ],
      "text/plain": [
       "           PM2.5        PM10        NO        NO2        NOx        NH3  \\\n",
       "325    63.730000  106.830000  9.610000  60.810000  12.100000  17.460000   \n",
       "1051   59.610000   95.420000  3.610000  33.950000  20.680000  10.460000   \n",
       "3207  516.276716   87.884827  3.759198  10.588000  23.211570  10.761771   \n",
       "4475   17.506699   40.224884  8.294931  27.153318  19.942687  15.714168   \n",
       "3674  185.051573  102.444793  7.028178  14.389537  17.583862   9.656412   \n",
       "\n",
       "            CO        SO2         O3   Benzene    Toluene  \n",
       "325   0.290000  30.480000  62.700000  0.020000   0.080000  \n",
       "1051  0.530000  12.910000  34.280000  3.790000  25.710000  \n",
       "3207  1.139025   7.111169  37.540884  1.538972  12.493655  \n",
       "4475  0.310450   6.038820  14.578334  0.998367  10.054890  \n",
       "3674  1.090029   7.424214  29.118677  1.634415   8.903350  "
      ]
     },
     "execution_count": 16,
     "metadata": {},
     "output_type": "execute_result"
    }
   ],
   "source": [
    "x_train.head(5)\n"
   ]
  },
  {
   "cell_type": "code",
   "execution_count": 17,
   "metadata": {
    "colab": {
     "base_uri": "https://localhost:8080/",
     "height": 206
    },
    "id": "m9MI3yWpX0OZ",
    "outputId": "11fa40a6-92b4-4504-c64c-c7062ed73833"
   },
   "outputs": [
    {
     "data": {
      "text/html": [
       "<div>\n",
       "<style scoped>\n",
       "    .dataframe tbody tr th:only-of-type {\n",
       "        vertical-align: middle;\n",
       "    }\n",
       "\n",
       "    .dataframe tbody tr th {\n",
       "        vertical-align: top;\n",
       "    }\n",
       "\n",
       "    .dataframe thead th {\n",
       "        text-align: right;\n",
       "    }\n",
       "</style>\n",
       "<table border=\"1\" class=\"dataframe\">\n",
       "  <thead>\n",
       "    <tr style=\"text-align: right;\">\n",
       "      <th></th>\n",
       "      <th>PM2.5</th>\n",
       "      <th>PM10</th>\n",
       "      <th>NO</th>\n",
       "      <th>NO2</th>\n",
       "      <th>NOx</th>\n",
       "      <th>NH3</th>\n",
       "      <th>CO</th>\n",
       "      <th>SO2</th>\n",
       "      <th>O3</th>\n",
       "      <th>Benzene</th>\n",
       "      <th>Toluene</th>\n",
       "    </tr>\n",
       "  </thead>\n",
       "  <tbody>\n",
       "    <tr>\n",
       "      <th>1897</th>\n",
       "      <td>516.231924</td>\n",
       "      <td>85.329454</td>\n",
       "      <td>3.042685</td>\n",
       "      <td>6.540184</td>\n",
       "      <td>15.426718</td>\n",
       "      <td>10.778211</td>\n",
       "      <td>1.094618</td>\n",
       "      <td>6.554411</td>\n",
       "      <td>37.538479</td>\n",
       "      <td>1.207714</td>\n",
       "      <td>11.810368</td>\n",
       "    </tr>\n",
       "    <tr>\n",
       "      <th>877</th>\n",
       "      <td>16.230000</td>\n",
       "      <td>41.540000</td>\n",
       "      <td>3.950000</td>\n",
       "      <td>23.210000</td>\n",
       "      <td>15.220000</td>\n",
       "      <td>12.730000</td>\n",
       "      <td>0.260000</td>\n",
       "      <td>5.930000</td>\n",
       "      <td>17.500000</td>\n",
       "      <td>0.240000</td>\n",
       "      <td>1.790000</td>\n",
       "    </tr>\n",
       "    <tr>\n",
       "      <th>2927</th>\n",
       "      <td>17.021800</td>\n",
       "      <td>43.464796</td>\n",
       "      <td>3.167370</td>\n",
       "      <td>13.432271</td>\n",
       "      <td>9.378126</td>\n",
       "      <td>12.767785</td>\n",
       "      <td>0.356883</td>\n",
       "      <td>9.396640</td>\n",
       "      <td>16.786825</td>\n",
       "      <td>0.163056</td>\n",
       "      <td>1.119750</td>\n",
       "    </tr>\n",
       "    <tr>\n",
       "      <th>3229</th>\n",
       "      <td>513.388485</td>\n",
       "      <td>94.107891</td>\n",
       "      <td>11.044846</td>\n",
       "      <td>15.064545</td>\n",
       "      <td>32.835485</td>\n",
       "      <td>10.529613</td>\n",
       "      <td>1.569549</td>\n",
       "      <td>8.881410</td>\n",
       "      <td>38.029600</td>\n",
       "      <td>1.687901</td>\n",
       "      <td>12.509599</td>\n",
       "    </tr>\n",
       "    <tr>\n",
       "      <th>1595</th>\n",
       "      <td>9.870000</td>\n",
       "      <td>23.480000</td>\n",
       "      <td>5.260000</td>\n",
       "      <td>19.350000</td>\n",
       "      <td>13.700000</td>\n",
       "      <td>10.640000</td>\n",
       "      <td>0.290000</td>\n",
       "      <td>5.320000</td>\n",
       "      <td>16.200000</td>\n",
       "      <td>0.430000</td>\n",
       "      <td>1.650000</td>\n",
       "    </tr>\n",
       "  </tbody>\n",
       "</table>\n",
       "</div>"
      ],
      "text/plain": [
       "           PM2.5       PM10         NO        NO2        NOx        NH3  \\\n",
       "1897  516.231924  85.329454   3.042685   6.540184  15.426718  10.778211   \n",
       "877    16.230000  41.540000   3.950000  23.210000  15.220000  12.730000   \n",
       "2927   17.021800  43.464796   3.167370  13.432271   9.378126  12.767785   \n",
       "3229  513.388485  94.107891  11.044846  15.064545  32.835485  10.529613   \n",
       "1595    9.870000  23.480000   5.260000  19.350000  13.700000  10.640000   \n",
       "\n",
       "            CO       SO2         O3   Benzene    Toluene  \n",
       "1897  1.094618  6.554411  37.538479  1.207714  11.810368  \n",
       "877   0.260000  5.930000  17.500000  0.240000   1.790000  \n",
       "2927  0.356883  9.396640  16.786825  0.163056   1.119750  \n",
       "3229  1.569549  8.881410  38.029600  1.687901  12.509599  \n",
       "1595  0.290000  5.320000  16.200000  0.430000   1.650000  "
      ]
     },
     "execution_count": 17,
     "metadata": {},
     "output_type": "execute_result"
    }
   ],
   "source": [
    "x_test.head(5)\n"
   ]
  },
  {
   "cell_type": "code",
   "execution_count": 18,
   "metadata": {
    "colab": {
     "base_uri": "https://localhost:8080/"
    },
    "id": "xw290Ll7X1U3",
    "outputId": "b54faa91-a527-40f0-94af-62446c4db03f"
   },
   "outputs": [
    {
     "data": {
      "text/plain": [
       "325     126.000000\n",
       "1051    141.000000\n",
       "3207    480.067414\n",
       "4475     48.097485\n",
       "3674    368.418253\n",
       "Name: AQI, dtype: float64"
      ]
     },
     "execution_count": 18,
     "metadata": {},
     "output_type": "execute_result"
    }
   ],
   "source": [
    "y_train.head(5)\n"
   ]
  },
  {
   "cell_type": "code",
   "execution_count": 19,
   "metadata": {
    "colab": {
     "base_uri": "https://localhost:8080/"
    },
    "id": "vc0g9QB7X2t9",
    "outputId": "8caee5b4-ace3-4c87-8eeb-e28f70e09926"
   },
   "outputs": [
    {
     "data": {
      "text/plain": [
       "1897    485.094868\n",
       "877      41.000000\n",
       "2927     48.005819\n",
       "3229    448.105015\n",
       "1595     38.000000\n",
       "Name: AQI, dtype: float64"
      ]
     },
     "execution_count": 19,
     "metadata": {},
     "output_type": "execute_result"
    }
   ],
   "source": [
    "y_test.head(5)\n"
   ]
  },
  {
   "cell_type": "code",
   "execution_count": 20,
   "metadata": {
    "id": "aup4hdZEX4IQ"
   },
   "outputs": [],
   "source": [
    "#feature scaling\n",
    "#we need to normalize data values as ml models work more better and faster when the values are small and in sync with each other\n",
    "from sklearn.preprocessing import StandardScaler, MinMaxScaler\n",
    "sc_x = StandardScaler()   #for standardizing the data values into standard format->normalisation of data makes mean = 0 and unit variance\n",
    "sc_y = StandardScaler()\n",
    "x_train = sc_x.fit_transform(x_train)  #scale the training data and also learn the scaling parameters of that data. The fit method is calculating the mean and variance of each of the features present in our data. The transform method is transforming all the features using the respective mean and variance.\n",
    "x_test=sc_x.transform(x_test)\n",
    "y_train = sc_y.fit_transform(np.array(y_train).reshape(-1,1)) \n",
    "y_test = sc_y.transform(np.array(y_test).reshape(-1,1))"
   ]
  },
  {
   "cell_type": "code",
   "execution_count": 21,
   "metadata": {
    "colab": {
     "base_uri": "https://localhost:8080/"
    },
    "id": "dy4YDRFeX5ut",
    "outputId": "59810770-5ce1-466a-e086-8c79358d9038"
   },
   "outputs": [
    {
     "data": {
      "text/plain": [
       "array([[ 1.6109555 ],\n",
       "       [-1.14843793],\n",
       "       [-1.10490712],\n",
       "       [ 1.38111822],\n",
       "       [-1.1670785 ]])"
      ]
     },
     "execution_count": 21,
     "metadata": {},
     "output_type": "execute_result"
    }
   ],
   "source": [
    "y_test[:5]\n"
   ]
  },
  {
   "cell_type": "code",
   "execution_count": 22,
   "metadata": {
    "colab": {
     "base_uri": "https://localhost:8080/"
    },
    "id": "37DSBoaXX7Nt",
    "outputId": "5e0e7c63-a452-4ac5-aff3-7778d753b937"
   },
   "outputs": [
    {
     "data": {
      "text/html": [
       "<style>#sk-container-id-1 {color: black;background-color: white;}#sk-container-id-1 pre{padding: 0;}#sk-container-id-1 div.sk-toggleable {background-color: white;}#sk-container-id-1 label.sk-toggleable__label {cursor: pointer;display: block;width: 100%;margin-bottom: 0;padding: 0.3em;box-sizing: border-box;text-align: center;}#sk-container-id-1 label.sk-toggleable__label-arrow:before {content: \"▸\";float: left;margin-right: 0.25em;color: #696969;}#sk-container-id-1 label.sk-toggleable__label-arrow:hover:before {color: black;}#sk-container-id-1 div.sk-estimator:hover label.sk-toggleable__label-arrow:before {color: black;}#sk-container-id-1 div.sk-toggleable__content {max-height: 0;max-width: 0;overflow: hidden;text-align: left;background-color: #f0f8ff;}#sk-container-id-1 div.sk-toggleable__content pre {margin: 0.2em;color: black;border-radius: 0.25em;background-color: #f0f8ff;}#sk-container-id-1 input.sk-toggleable__control:checked~div.sk-toggleable__content {max-height: 200px;max-width: 100%;overflow: auto;}#sk-container-id-1 input.sk-toggleable__control:checked~label.sk-toggleable__label-arrow:before {content: \"▾\";}#sk-container-id-1 div.sk-estimator input.sk-toggleable__control:checked~label.sk-toggleable__label {background-color: #d4ebff;}#sk-container-id-1 div.sk-label input.sk-toggleable__control:checked~label.sk-toggleable__label {background-color: #d4ebff;}#sk-container-id-1 input.sk-hidden--visually {border: 0;clip: rect(1px 1px 1px 1px);clip: rect(1px, 1px, 1px, 1px);height: 1px;margin: -1px;overflow: hidden;padding: 0;position: absolute;width: 1px;}#sk-container-id-1 div.sk-estimator {font-family: monospace;background-color: #f0f8ff;border: 1px dotted black;border-radius: 0.25em;box-sizing: border-box;margin-bottom: 0.5em;}#sk-container-id-1 div.sk-estimator:hover {background-color: #d4ebff;}#sk-container-id-1 div.sk-parallel-item::after {content: \"\";width: 100%;border-bottom: 1px solid gray;flex-grow: 1;}#sk-container-id-1 div.sk-label:hover label.sk-toggleable__label {background-color: #d4ebff;}#sk-container-id-1 div.sk-serial::before {content: \"\";position: absolute;border-left: 1px solid gray;box-sizing: border-box;top: 0;bottom: 0;left: 50%;z-index: 0;}#sk-container-id-1 div.sk-serial {display: flex;flex-direction: column;align-items: center;background-color: white;padding-right: 0.2em;padding-left: 0.2em;position: relative;}#sk-container-id-1 div.sk-item {position: relative;z-index: 1;}#sk-container-id-1 div.sk-parallel {display: flex;align-items: stretch;justify-content: center;background-color: white;position: relative;}#sk-container-id-1 div.sk-item::before, #sk-container-id-1 div.sk-parallel-item::before {content: \"\";position: absolute;border-left: 1px solid gray;box-sizing: border-box;top: 0;bottom: 0;left: 50%;z-index: -1;}#sk-container-id-1 div.sk-parallel-item {display: flex;flex-direction: column;z-index: 1;position: relative;background-color: white;}#sk-container-id-1 div.sk-parallel-item:first-child::after {align-self: flex-end;width: 50%;}#sk-container-id-1 div.sk-parallel-item:last-child::after {align-self: flex-start;width: 50%;}#sk-container-id-1 div.sk-parallel-item:only-child::after {width: 0;}#sk-container-id-1 div.sk-dashed-wrapped {border: 1px dashed gray;margin: 0 0.4em 0.5em 0.4em;box-sizing: border-box;padding-bottom: 0.4em;background-color: white;}#sk-container-id-1 div.sk-label label {font-family: monospace;font-weight: bold;display: inline-block;line-height: 1.2em;}#sk-container-id-1 div.sk-label-container {text-align: center;}#sk-container-id-1 div.sk-container {/* jupyter's `normalize.less` sets `[hidden] { display: none; }` but bootstrap.min.css set `[hidden] { display: none !important; }` so we also need the `!important` here to be able to override the default hidden behavior on the sphinx rendered scikit-learn.org. See: https://github.com/scikit-learn/scikit-learn/issues/21755 */display: inline-block !important;position: relative;}#sk-container-id-1 div.sk-text-repr-fallback {display: none;}</style><div id=\"sk-container-id-1\" class=\"sk-top-container\"><div class=\"sk-text-repr-fallback\"><pre>SVR()</pre><b>In a Jupyter environment, please rerun this cell to show the HTML representation or trust the notebook. <br />On GitHub, the HTML representation is unable to render, please try loading this page with nbviewer.org.</b></div><div class=\"sk-container\" hidden><div class=\"sk-item\"><div class=\"sk-estimator sk-toggleable\"><input class=\"sk-toggleable__control sk-hidden--visually\" id=\"sk-estimator-id-1\" type=\"checkbox\" checked><label for=\"sk-estimator-id-1\" class=\"sk-toggleable__label sk-toggleable__label-arrow\">SVR</label><div class=\"sk-toggleable__content\"><pre>SVR()</pre></div></div></div></div></div>"
      ],
      "text/plain": [
       "SVR()"
      ]
     },
     "execution_count": 22,
     "metadata": {},
     "output_type": "execute_result"
    }
   ],
   "source": [
    "from sklearn.svm import SVR\n",
    "regressor = SVR(kernel = 'rbf')  #kernel is a function used in SVM for helping to define decision boundaries\n",
    "#rbf= radial basis function\n",
    "regressor.fit(x_train,y_train)"
   ]
  },
  {
   "cell_type": "code",
   "execution_count": 23,
   "metadata": {
    "id": "JT2JYpGuX8up"
   },
   "outputs": [
    {
     "data": {
      "text/plain": [
       "array([ 1.50108247, -1.08752675, -1.07889661, ...,  0.74571527,\n",
       "       -0.92548392, -1.06371622])"
      ]
     },
     "execution_count": 23,
     "metadata": {},
     "output_type": "execute_result"
    }
   ],
   "source": [
    "y_prediction =  regressor.predict(x_test)\n",
    "y_prediction"
   ]
  },
  {
   "cell_type": "code",
   "execution_count": 24,
   "metadata": {
    "colab": {
     "base_uri": "https://localhost:8080/"
    },
    "id": "3XeIEphMX_dC",
    "outputId": "8faeb559-19d2-41d5-9359-885ea7ae1e77"
   },
   "outputs": [
    {
     "name": "stdout",
     "output_type": "stream",
     "text": [
      "R2 SCORE is 0.9914050151529799\n",
      "mean_sqrd_error is  0.008747760002137783\n",
      "Root mean squared error of is 0.09352946061074972\n",
      "Mean Absolute error is 0.06434122214022323\n",
      "Accuracy is 0.9356587778597768\n"
     ]
    }
   ],
   "source": [
    "from sklearn.metrics import r2_score\n",
    "from sklearn.metrics import mean_squared_error\n",
    "from sklearn.metrics import mean_absolute_error\n",
    "from sklearn.metrics import accuracy_score\n",
    "score = r2_score(y_test,y_prediction)\n",
    "mean_error = mean_squared_error(y_test,y_prediction)\n",
    "mae = mean_absolute_error(y_test,y_prediction)\n",
    "print(\"R2 SCORE is\", score)\n",
    "print(\"mean_sqrd_error is \", mean_error)\n",
    "print(\"Root mean squared error of is\",np.sqrt(mean_error))\n",
    "print(\"Mean Absolute error is\", mae)\n",
    "print(\"Accuracy is\", 1 - mae)"
   ]
  },
  {
   "cell_type": "code",
   "execution_count": 25,
   "metadata": {
    "id": "CANPM9uzYAhW"
   },
   "outputs": [
    {
     "data": {
      "text/plain": [
       "array([[ 1.6109555 ],\n",
       "       [-1.14843793],\n",
       "       [-1.10490712],\n",
       "       ...,\n",
       "       [ 0.69354109],\n",
       "       [-0.83776181],\n",
       "       [-1.09932092]])"
      ]
     },
     "execution_count": 25,
     "metadata": {},
     "output_type": "execute_result"
    }
   ],
   "source": [
    "y_test.reshape(-1,1)\n",
    "y_test"
   ]
  },
  {
   "cell_type": "code",
   "execution_count": 26,
   "metadata": {
    "id": "9310zoK6YB0B"
   },
   "outputs": [
    {
     "data": {
      "text/plain": [
       "array([[ 1.50108247],\n",
       "       [-1.08752675],\n",
       "       [-1.07889661],\n",
       "       ...,\n",
       "       [ 0.74571527],\n",
       "       [-0.92548392],\n",
       "       [-1.06371622]])"
      ]
     },
     "execution_count": 26,
     "metadata": {},
     "output_type": "execute_result"
    }
   ],
   "source": [
    "y_prediction.reshape(-1,1)"
   ]
  },
  {
   "cell_type": "code",
   "execution_count": 27,
   "metadata": {
    "colab": {
     "base_uri": "https://localhost:8080/"
    },
    "id": "pi5E673AYDL4",
    "outputId": "0377b6f9-964f-4771-e588-d6452340a310"
   },
   "outputs": [
    {
     "data": {
      "text/plain": [
       "array([[ 1.6109555 ],\n",
       "       [-1.14843793],\n",
       "       [-1.10490712],\n",
       "       [ 1.38111822],\n",
       "       [-1.1670785 ],\n",
       "       [ 0.03213845],\n",
       "       [-1.09872975],\n",
       "       [-1.04280805],\n",
       "       [-0.83776181],\n",
       "       [-0.86882942]])"
      ]
     },
     "execution_count": 27,
     "metadata": {},
     "output_type": "execute_result"
    }
   ],
   "source": [
    "y_test[0:10]"
   ]
  },
  {
   "cell_type": "code",
   "execution_count": 28,
   "metadata": {
    "id": "o4lWer-ZYE99"
   },
   "outputs": [
    {
     "data": {
      "text/plain": [
       "array([[ 1.50108247],\n",
       "       [-1.08752675],\n",
       "       [-1.07889661],\n",
       "       ...,\n",
       "       [ 0.74571527],\n",
       "       [-0.92548392],\n",
       "       [-1.06371622]])"
      ]
     },
     "execution_count": 28,
     "metadata": {},
     "output_type": "execute_result"
    }
   ],
   "source": [
    "y_prediction.reshape(-1,1)"
   ]
  },
  {
   "cell_type": "markdown",
   "metadata": {
    "id": "u-NVs9dhU2Ry"
   },
   "source": [
    "Plotting of Graphs\n"
   ]
  },
  {
   "cell_type": "code",
   "execution_count": 29,
   "metadata": {
    "colab": {
     "base_uri": "https://localhost:8080/",
     "height": 320
    },
    "id": "JhNyUurJYGEU",
    "outputId": "1829cae5-f833-44f6-ce93-dcaad45ebd43"
   },
   "outputs": [
    {
     "data": {
      "image/png": "[encoded data removed]",
      "text/plain": [
       "<Figure size 432x288 with 1 Axes>"
      ]
     },
     "metadata": {
      "needs_background": "light"
     },
     "output_type": "display_data"
    }
   ],
   "source": [
    "plt.plot(y_test.reshape(-1,1)[0:10])\n",
    "plt.plot(y_prediction.reshape(-1,1)[0:10])\n",
    "plt.grid(which='major', linestyle='-', linewidth='0.5', color='green')\n",
    "plt.grid(which='minor', linestyle=':', linewidth='0.5', color='black')\n",
    "plt.xlabel('Observations')\n",
    "plt.ylabel('AQI difference')\n",
    "plt.gca().legend(('y_test','y_pred'))\n",
    "plt.show()\n"
   ]
  },
  {
   "cell_type": "code",
   "execution_count": 30,
   "metadata": {
    "colab": {
     "base_uri": "https://localhost:8080/",
     "height": 520
    },
    "id": "Z4LwX4UyYHdH",
    "outputId": "c819cff8-6df3-463e-9f5d-3c143576068e"
   },
   "outputs": [
    {
     "data": {
      "text/html": [
       "<div>\n",
       "<style scoped>\n",
       "    .dataframe tbody tr th:only-of-type {\n",
       "        vertical-align: middle;\n",
       "    }\n",
       "\n",
       "    .dataframe tbody tr th {\n",
       "        vertical-align: top;\n",
       "    }\n",
       "\n",
       "    .dataframe thead th {\n",
       "        text-align: right;\n",
       "    }\n",
       "</style>\n",
       "<table border=\"1\" class=\"dataframe\">\n",
       "  <thead>\n",
       "    <tr style=\"text-align: right;\">\n",
       "      <th></th>\n",
       "      <th>ACTUAL AQI</th>\n",
       "      <th>PREDICTED AQI</th>\n",
       "      <th>DIFFERENCE</th>\n",
       "      <th>ACC OR NOT</th>\n",
       "      <th>PERCENTAGE ERROR</th>\n",
       "    </tr>\n",
       "  </thead>\n",
       "  <tbody>\n",
       "    <tr>\n",
       "      <th>0</th>\n",
       "      <td>1.610955</td>\n",
       "      <td>1.501082</td>\n",
       "      <td>0.109873</td>\n",
       "      <td>Accurate</td>\n",
       "      <td>6.820364</td>\n",
       "    </tr>\n",
       "    <tr>\n",
       "      <th>1</th>\n",
       "      <td>-1.148438</td>\n",
       "      <td>-1.087527</td>\n",
       "      <td>-0.060911</td>\n",
       "      <td>Accurate</td>\n",
       "      <td>-5.303829</td>\n",
       "    </tr>\n",
       "    <tr>\n",
       "      <th>2</th>\n",
       "      <td>-1.104907</td>\n",
       "      <td>-1.078897</td>\n",
       "      <td>-0.026011</td>\n",
       "      <td>Accurate</td>\n",
       "      <td>-2.354090</td>\n",
       "    </tr>\n",
       "    <tr>\n",
       "      <th>3</th>\n",
       "      <td>1.381118</td>\n",
       "      <td>1.322030</td>\n",
       "      <td>0.059088</td>\n",
       "      <td>Accurate</td>\n",
       "      <td>4.278274</td>\n",
       "    </tr>\n",
       "    <tr>\n",
       "      <th>4</th>\n",
       "      <td>-1.167078</td>\n",
       "      <td>-1.128905</td>\n",
       "      <td>-0.038174</td>\n",
       "      <td>Accurate</td>\n",
       "      <td>-3.270888</td>\n",
       "    </tr>\n",
       "    <tr>\n",
       "      <th>5</th>\n",
       "      <td>0.032138</td>\n",
       "      <td>0.135417</td>\n",
       "      <td>-0.103278</td>\n",
       "      <td>Accurate</td>\n",
       "      <td>321.354875</td>\n",
       "    </tr>\n",
       "    <tr>\n",
       "      <th>6</th>\n",
       "      <td>-1.098730</td>\n",
       "      <td>-1.046461</td>\n",
       "      <td>-0.052269</td>\n",
       "      <td>Accurate</td>\n",
       "      <td>-4.757235</td>\n",
       "    </tr>\n",
       "    <tr>\n",
       "      <th>7</th>\n",
       "      <td>-1.042808</td>\n",
       "      <td>-1.071050</td>\n",
       "      <td>0.028242</td>\n",
       "      <td>Accurate</td>\n",
       "      <td>-2.708267</td>\n",
       "    </tr>\n",
       "    <tr>\n",
       "      <th>8</th>\n",
       "      <td>-0.837762</td>\n",
       "      <td>-0.856838</td>\n",
       "      <td>0.019076</td>\n",
       "      <td>Accurate</td>\n",
       "      <td>-2.276986</td>\n",
       "    </tr>\n",
       "    <tr>\n",
       "      <th>9</th>\n",
       "      <td>-0.868829</td>\n",
       "      <td>-0.820680</td>\n",
       "      <td>-0.048149</td>\n",
       "      <td>Accurate</td>\n",
       "      <td>-5.541844</td>\n",
       "    </tr>\n",
       "    <tr>\n",
       "      <th>10</th>\n",
       "      <td>-0.027070</td>\n",
       "      <td>0.035976</td>\n",
       "      <td>-0.063046</td>\n",
       "      <td>Accurate</td>\n",
       "      <td>-232.902284</td>\n",
       "    </tr>\n",
       "    <tr>\n",
       "      <th>11</th>\n",
       "      <td>-1.061449</td>\n",
       "      <td>-1.096807</td>\n",
       "      <td>0.035358</td>\n",
       "      <td>Accurate</td>\n",
       "      <td>-3.331103</td>\n",
       "    </tr>\n",
       "    <tr>\n",
       "      <th>12</th>\n",
       "      <td>1.622340</td>\n",
       "      <td>1.658009</td>\n",
       "      <td>-0.035669</td>\n",
       "      <td>Accurate</td>\n",
       "      <td>2.198623</td>\n",
       "    </tr>\n",
       "    <tr>\n",
       "      <th>13</th>\n",
       "      <td>0.906795</td>\n",
       "      <td>0.943391</td>\n",
       "      <td>-0.036596</td>\n",
       "      <td>Accurate</td>\n",
       "      <td>4.035734</td>\n",
       "    </tr>\n",
       "    <tr>\n",
       "      <th>14</th>\n",
       "      <td>1.763387</td>\n",
       "      <td>1.706207</td>\n",
       "      <td>0.057180</td>\n",
       "      <td>Accurate</td>\n",
       "      <td>3.242629</td>\n",
       "    </tr>\n",
       "    <tr>\n",
       "      <th>15</th>\n",
       "      <td>0.325271</td>\n",
       "      <td>0.274031</td>\n",
       "      <td>0.051239</td>\n",
       "      <td>Accurate</td>\n",
       "      <td>15.752790</td>\n",
       "    </tr>\n",
       "    <tr>\n",
       "      <th>16</th>\n",
       "      <td>-1.098730</td>\n",
       "      <td>-1.085250</td>\n",
       "      <td>-0.013480</td>\n",
       "      <td>Accurate</td>\n",
       "      <td>-1.226886</td>\n",
       "    </tr>\n",
       "    <tr>\n",
       "      <th>17</th>\n",
       "      <td>1.622291</td>\n",
       "      <td>1.654479</td>\n",
       "      <td>-0.032188</td>\n",
       "      <td>Accurate</td>\n",
       "      <td>1.984128</td>\n",
       "    </tr>\n",
       "    <tr>\n",
       "      <th>18</th>\n",
       "      <td>0.025918</td>\n",
       "      <td>0.215509</td>\n",
       "      <td>-0.189591</td>\n",
       "      <td>Accurate</td>\n",
       "      <td>731.509079</td>\n",
       "    </tr>\n",
       "    <tr>\n",
       "      <th>19</th>\n",
       "      <td>-1.106662</td>\n",
       "      <td>-1.118196</td>\n",
       "      <td>0.011535</td>\n",
       "      <td>Accurate</td>\n",
       "      <td>-1.042314</td>\n",
       "    </tr>\n",
       "    <tr>\n",
       "      <th>20</th>\n",
       "      <td>-1.108385</td>\n",
       "      <td>-1.104155</td>\n",
       "      <td>-0.004231</td>\n",
       "      <td>Accurate</td>\n",
       "      <td>-0.381687</td>\n",
       "    </tr>\n",
       "  </tbody>\n",
       "</table>\n",
       "</div>"
      ],
      "text/plain": [
       "    ACTUAL AQI  PREDICTED AQI  DIFFERENCE ACC OR NOT  PERCENTAGE ERROR\n",
       "0     1.610955       1.501082    0.109873   Accurate          6.820364\n",
       "1    -1.148438      -1.087527   -0.060911   Accurate         -5.303829\n",
       "2    -1.104907      -1.078897   -0.026011   Accurate         -2.354090\n",
       "3     1.381118       1.322030    0.059088   Accurate          4.278274\n",
       "4    -1.167078      -1.128905   -0.038174   Accurate         -3.270888\n",
       "5     0.032138       0.135417   -0.103278   Accurate        321.354875\n",
       "6    -1.098730      -1.046461   -0.052269   Accurate         -4.757235\n",
       "7    -1.042808      -1.071050    0.028242   Accurate         -2.708267\n",
       "8    -0.837762      -0.856838    0.019076   Accurate         -2.276986\n",
       "9    -0.868829      -0.820680   -0.048149   Accurate         -5.541844\n",
       "10   -0.027070       0.035976   -0.063046   Accurate       -232.902284\n",
       "11   -1.061449      -1.096807    0.035358   Accurate         -3.331103\n",
       "12    1.622340       1.658009   -0.035669   Accurate          2.198623\n",
       "13    0.906795       0.943391   -0.036596   Accurate          4.035734\n",
       "14    1.763387       1.706207    0.057180   Accurate          3.242629\n",
       "15    0.325271       0.274031    0.051239   Accurate         15.752790\n",
       "16   -1.098730      -1.085250   -0.013480   Accurate         -1.226886\n",
       "17    1.622291       1.654479   -0.032188   Accurate          1.984128\n",
       "18    0.025918       0.215509   -0.189591   Accurate        731.509079\n",
       "19   -1.106662      -1.118196    0.011535   Accurate         -1.042314\n",
       "20   -1.108385      -1.104155   -0.004231   Accurate         -0.381687"
      ]
     },
     "execution_count": 30,
     "metadata": {},
     "output_type": "execute_result"
    }
   ],
   "source": [
    "result = pd.DataFrame()\n",
    "result[\"ACTUAL AQI\"] = y_test.flatten() #collapse into 1D\n",
    "result[\"PREDICTED AQI\"] = y_prediction\n",
    "result[\"DIFFERENCE\"] = result[\"ACTUAL AQI\"] - result[\"PREDICTED AQI\"]\n",
    "result[\"ACC OR NOT\"] = np.where(abs(result[\"DIFFERENCE\"])<= 0.5, \"Accurate\", \"Inaccurate\")\n",
    "result[\"PERCENTAGE ERROR\"] = ( abs(result[\"ACTUAL AQI\"] - result[\"PREDICTED AQI\"] ) / result[\"ACTUAL AQI\"] ) * 100\n",
    "result.head(21)"
   ]
  },
  {
   "cell_type": "code",
   "execution_count": 31,
   "metadata": {
    "colab": {
     "base_uri": "https://localhost:8080/",
     "height": 284
    },
    "id": "77KimzR6_YsY",
    "outputId": "84233a73-e702-449f-f5bb-de5ac16b290e"
   },
   "outputs": [
    {
     "data": {
      "image/png": "[encoded data removed]",
      "text/plain": [
       "<Figure size 432x288 with 1 Axes>"
      ]
     },
     "metadata": {
      "needs_background": "light"
     },
     "output_type": "display_data"
    }
   ],
   "source": [
    "predictions = regressor.predict(x_test)\n",
    "fig = sns.distplot(y_test-predictions) #using the seaborn library we create an histogram of predicted values\n",
    "plt.xlabel(\"Number of bins\")\n",
    "plt.ylabel(\"Density\")\n",
    "plt.show(fig) "
   ]
  },
  {
   "cell_type": "code",
   "execution_count": 33,
   "metadata": {
    "colab": {
     "base_uri": "https://localhost:8080/",
     "height": 295
    },
    "id": "yw_kFGj7-zqg",
    "outputId": "b83589c8-dc0d-40cd-d983-3ca9f152149b"
   },
   "outputs": [
    {
     "data": {
      "image/png": "[encoded data removed]",
      "text/plain": [
       "<Figure size 432x288 with 1 Axes>"
      ]
     },
     "metadata": {
      "needs_background": "light"
     },
     "output_type": "display_data"
    }
   ],
   "source": [
    "import matplotlib.pyplot as plt\n",
    "_, ax = plt.subplots()\n",
    "\n",
    "ax.scatter(x = range(0, y_test.size), y=y_test, c = 'blue', label = 'Actual', alpha = 0.3)\n",
    "ax.scatter(x = range(0, y_prediction.size), y=y_prediction, c = 'red', label = 'Predicted', alpha = 0.3)\n",
    "#alpha=transparency\n",
    "plt.title('Actual and predicted values')\n",
    "plt.xlabel('Observations')\n",
    "plt.ylabel('Targets')\n",
    "plt.legend()\n",
    "plt.show()"
   ]
  },
  {
   "cell_type": "code",
   "execution_count": null,
   "metadata": {},
   "outputs": [],
   "source": []
  }
 ],
 "metadata": {
  "colab": {
   "collapsed_sections": [],
   "name": "dmt.ipynb",
   "provenance": []
  },
  "kernelspec": {
   "display_name": "Python 3 (ipykernel)",
   "language": "python",
   "name": "python3"
  },
  "language_info": {
   "codemirror_mode": {
    "name": "ipython",
    "version": 3
   },
   "file_extension": ".py",
   "mimetype": "text/x-python",
   "name": "python",
   "nbconvert_exporter": "python",
   "pygments_lexer": "ipython3",
   "version": "3.10.0"
  }
 },
 "nbformat": 4,
 "nbformat_minor": 1
}
